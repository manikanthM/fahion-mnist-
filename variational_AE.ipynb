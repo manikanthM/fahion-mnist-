{
  "nbformat": 4,
  "nbformat_minor": 0,
  "metadata": {
    "colab": {
      "name": "variational AE.ipynb",
      "version": "0.3.2",
      "provenance": [],
      "include_colab_link": true
    },
    "kernelspec": {
      "name": "python3",
      "display_name": "Python 3"
    }
  },
  "cells": [
    {
      "cell_type": "markdown",
      "metadata": {
        "id": "view-in-github",
        "colab_type": "text"
      },
      "source": [
        "[View in Colaboratory](https://colab.research.google.com/github/manikanthM/fahion-mnist-/blob/master/variational_AE.ipynb)"
      ]
    },
    {
      "metadata": {
        "id": "eyEyykq7Z24-",
        "colab_type": "code",
        "colab": {}
      },
      "cell_type": "code",
      "source": [
        "import pandas as pd \n",
        "import keras \n",
        "from keras.datasets import fashion_mnist\n",
        "from keras.models import load_model,Sequential,Model\n",
        "from time import time\n",
        "from sklearn.cluster import KMeans\n",
        "from keras import callbacks\n",
        "from keras.optimizers import SGD\n",
        "from keras.layers import Dense, Input, Lambda, Layer, Add, Multiply\n",
        "from keras.initializers import VarianceScaling\n",
        "from keras.engine.topology import Layer, InputSpec\n",
        "import matplotlib.pyplot as plt\n",
        "import keras.backend as K\n",
        "from scipy.misc import imread\n",
        "from sklearn.metrics import accuracy_score, normalized_mutual_info_score"
      ],
      "execution_count": 0,
      "outputs": []
    },
    {
      "metadata": {
        "id": "GX9KHIfuae0K",
        "colab_type": "code",
        "colab": {}
      },
      "cell_type": "code",
      "source": [
        "(x_train,y_train),(x_test,y_test)=fashion_mnist.load_data()"
      ],
      "execution_count": 0,
      "outputs": []
    },
    {
      "metadata": {
        "id": "mIUIEEiGavdb",
        "colab_type": "code",
        "colab": {}
      },
      "cell_type": "code",
      "source": [
        "x_train=x_train/255\n",
        "x_test=x_test/255"
      ],
      "execution_count": 0,
      "outputs": []
    },
    {
      "metadata": {
        "id": "MPY_CqOia_DX",
        "colab_type": "code",
        "colab": {}
      },
      "cell_type": "code",
      "source": [
        "x_train=x_train.reshape(-1,784)\n",
        "x_test=x_test.reshape(-1,784)"
      ],
      "execution_count": 0,
      "outputs": []
    },
    {
      "metadata": {
        "id": "9F4FzpwZbJ3W",
        "colab_type": "code",
        "colab": {}
      },
      "cell_type": "code",
      "source": [
        "input_img=Input(shape=(784,))\n",
        "encoded=Dense(300,activation='relu')(input_img)\n",
        "z_mu=Dense(10)(encoded)\n",
        "z_logsigma=Dense(10)(encoded)\n",
        "\n",
        "\n"
      ],
      "execution_count": 0,
      "outputs": []
    },
    {
      "metadata": {
        "id": "kThGiYBtb5JO",
        "colab_type": "code",
        "colab": {}
      },
      "cell_type": "code",
      "source": [
        "class KLDivergenceLayer(Layer):\n",
        "    def __init__(self, *args, **kwargs):\n",
        "        self.is_placeholder = True\n",
        "        super(KLDivergenceLayer, self).__init__(*args, **kwargs)\n",
        "\n",
        "    def call(self, inputs):\n",
        "        mu, log_sigma = inputs\n",
        "\n",
        "        kl_batch = - .5 * K.sum(1 + log_sigma -\n",
        "                                K.square(mu) -\n",
        "                                K.exp(log_sigma), axis=-1)\n",
        "\n",
        "        self.add_loss(K.mean(kl_batch), inputs=inputs)\n",
        "\n",
        "        return inputs\n",
        "\n",
        "z_mu, z_logsigma = KLDivergenceLayer()([z_mu, z_logsigma])\n",
        "z_sigma = Lambda(lambda t: K.exp(.5*t))(z_logsigma)\n",
        "\n",
        "eps = Input(tensor=K.random_normal(shape=(K.shape(input_img)[0],10)))\n",
        "z_eps = Multiply()([z_sigma, eps])\n",
        "z = Add()([z_mu, z_eps])\n",
        "  "
      ],
      "execution_count": 0,
      "outputs": []
    },
    {
      "metadata": {
        "id": "GjNOhdEjcZaY",
        "colab_type": "code",
        "colab": {}
      },
      "cell_type": "code",
      "source": [
        "decoder = Sequential([\n",
        "    Dense(300, input_dim=10, activation='relu'),\n",
        "    Dense(784, activation='sigmoid')\n",
        "])\n"
      ],
      "execution_count": 0,
      "outputs": []
    },
    {
      "metadata": {
        "id": "pAajmkUPdNOI",
        "colab_type": "code",
        "colab": {}
      },
      "cell_type": "code",
      "source": [
        "decoded=decoder(z)"
      ],
      "execution_count": 0,
      "outputs": []
    },
    {
      "metadata": {
        "id": "819Gi1h6dRkD",
        "colab_type": "code",
        "colab": {}
      },
      "cell_type": "code",
      "source": [
        "autoencoder = Model([input_img, eps], decoded)"
      ],
      "execution_count": 0,
      "outputs": []
    },
    {
      "metadata": {
        "id": "Lafnf-K7dY67",
        "colab_type": "code",
        "colab": {
          "base_uri": "https://localhost:8080/",
          "height": 527
        },
        "outputId": "e5dfb394-21f0-4218-f982-e624a2d19668"
      },
      "cell_type": "code",
      "source": [
        "autoencoder.summary()"
      ],
      "execution_count": 47,
      "outputs": [
        {
          "output_type": "stream",
          "text": [
            "__________________________________________________________________________________________________\n",
            "Layer (type)                    Output Shape         Param #     Connected to                     \n",
            "==================================================================================================\n",
            "input_5 (InputLayer)            (None, 784)          0                                            \n",
            "__________________________________________________________________________________________________\n",
            "dense_12 (Dense)                (None, 300)          235500      input_5[0][0]                    \n",
            "__________________________________________________________________________________________________\n",
            "dense_13 (Dense)                (None, 10)           3010        dense_12[0][0]                   \n",
            "__________________________________________________________________________________________________\n",
            "dense_14 (Dense)                (None, 10)           3010        dense_12[0][0]                   \n",
            "__________________________________________________________________________________________________\n",
            "kl_divergence_layer_8 (KLDiverg [(None, 10), (None,  0           dense_13[0][0]                   \n",
            "                                                                 dense_14[0][0]                   \n",
            "__________________________________________________________________________________________________\n",
            "lambda_2 (Lambda)               (None, 10)           0           kl_divergence_layer_8[0][1]      \n",
            "__________________________________________________________________________________________________\n",
            "input_6 (InputLayer)            (None, 10)           0                                            \n",
            "__________________________________________________________________________________________________\n",
            "multiply_2 (Multiply)           (None, 10)           0           lambda_2[0][0]                   \n",
            "                                                                 input_6[0][0]                    \n",
            "__________________________________________________________________________________________________\n",
            "add_2 (Add)                     (None, 10)           0           kl_divergence_layer_8[0][0]      \n",
            "                                                                 multiply_2[0][0]                 \n",
            "__________________________________________________________________________________________________\n",
            "sequential_2 (Sequential)       (None, 784)          239284      add_2[0][0]                      \n",
            "==================================================================================================\n",
            "Total params: 480,804\n",
            "Trainable params: 480,804\n",
            "Non-trainable params: 0\n",
            "__________________________________________________________________________________________________\n"
          ],
          "name": "stdout"
        }
      ]
    },
    {
      "metadata": {
        "id": "uyikEa0qdciQ",
        "colab_type": "code",
        "colab": {}
      },
      "cell_type": "code",
      "source": [
        "def nll(y_true, y_pred):\n",
        "  return K.sum(K.binary_crossentropy(y_true, y_pred), axis=-1)"
      ],
      "execution_count": 0,
      "outputs": []
    },
    {
      "metadata": {
        "id": "lMj-qRADdmey",
        "colab_type": "code",
        "colab": {}
      },
      "cell_type": "code",
      "source": [
        "autoencoder.compile(optimizer='adam', loss=nll)\n",
        "estop = keras.callbacks.EarlyStopping(monitor='val_loss', min_delta=0, patience=10, verbose=1, mode='auto')\n"
      ],
      "execution_count": 0,
      "outputs": []
    },
    {
      "metadata": {
        "id": "6N3vCi9NeUlk",
        "colab_type": "code",
        "colab": {
          "base_uri": "https://localhost:8080/",
          "height": 7449
        },
        "outputId": "98020060-a44d-431b-9ebd-97cefec1abff"
      },
      "cell_type": "code",
      "source": [
        "train_history = autoencoder.fit(x_train, x_train, epochs=500, batch_size=2048, validation_data=(x_test, x_test), callbacks=[estop])\n",
        "autoencoder.save('mymodel.h5')"
      ],
      "execution_count": 52,
      "outputs": [
        {
          "output_type": "stream",
          "text": [
            "Train on 60000 samples, validate on 10000 samples\n",
            "Epoch 1/500\n",
            "60000/60000 [==============================] - 7s 113us/step - loss: 441.3350 - val_loss: 356.8872\n",
            "Epoch 2/500\n",
            "60000/60000 [==============================] - 7s 119us/step - loss: 329.0771 - val_loss: 311.5986\n",
            "Epoch 3/500\n",
            "60000/60000 [==============================] - 7s 119us/step - loss: 300.3763 - val_loss: 292.0383\n",
            "Epoch 4/500\n",
            "60000/60000 [==============================] - 7s 119us/step - loss: 285.1070 - val_loss: 280.7912\n",
            "Epoch 5/500\n",
            "60000/60000 [==============================] - 7s 118us/step - loss: 276.7622 - val_loss: 275.0425\n",
            "Epoch 6/500\n",
            "60000/60000 [==============================] - 7s 118us/step - loss: 271.3717 - val_loss: 271.6019\n",
            "Epoch 7/500\n",
            "59392/60000 [============================>.] - ETA: 0s - loss: 267.9343"
          ],
          "name": "stdout"
        },
        {
          "output_type": "stream",
          "text": [
            "\b\b\b\b\b\b\b\b\b\b\b\b\b\b\b\b\b\b\b\b\b\b\b\b\b\b\b\b\b\b\b\b\b\b\b\b\b\b\b\b\b\b\b\b\b\b\b\b\b\b\b\b\b\b\b\b\b\b\b\b\b\b\b\b\b\b\b\b\b\b\b\r60000/60000 [==============================] - 7s 118us/step - loss: 267.9250 - val_loss: 267.7109\n",
            "Epoch 8/500\n",
            "60000/60000 [==============================] - 7s 117us/step - loss: 264.9681 - val_loss: 265.4549\n",
            "Epoch 9/500\n",
            "60000/60000 [==============================] - 7s 118us/step - loss: 262.9642 - val_loss: 263.5122\n",
            "Epoch 10/500\n",
            "60000/60000 [==============================] - 7s 118us/step - loss: 261.3453 - val_loss: 261.8555\n",
            "Epoch 11/500\n",
            "60000/60000 [==============================] - 7s 117us/step - loss: 259.7574 - val_loss: 261.6870\n",
            "Epoch 12/500\n",
            "60000/60000 [==============================] - 7s 118us/step - loss: 258.6648 - val_loss: 259.7736\n",
            "Epoch 13/500\n",
            "60000/60000 [==============================] - 7s 117us/step - loss: 257.4811 - val_loss: 258.5456\n",
            "Epoch 14/500\n"
          ],
          "name": "stdout"
        },
        {
          "output_type": "stream",
          "text": [
            "60000/60000 [==============================] - 7s 117us/step - loss: 256.3332 - val_loss: 257.5112\n",
            "Epoch 15/500\n",
            "60000/60000 [==============================] - 7s 117us/step - loss: 255.7122 - val_loss: 256.7205\n",
            "Epoch 16/500\n",
            "60000/60000 [==============================] - 7s 117us/step - loss: 255.0020 - val_loss: 256.0146\n",
            "Epoch 17/500\n",
            "60000/60000 [==============================] - 7s 118us/step - loss: 254.2187 - val_loss: 255.5238\n",
            "Epoch 18/500\n",
            "60000/60000 [==============================] - 7s 118us/step - loss: 253.4704 - val_loss: 254.8294\n",
            "Epoch 19/500\n",
            "60000/60000 [==============================] - 7s 118us/step - loss: 253.0508 - val_loss: 254.9224\n",
            "Epoch 20/500\n",
            "60000/60000 [==============================] - 7s 118us/step - loss: 252.6412 - val_loss: 254.0589\n",
            "Epoch 21/500\n",
            "26624/60000 [============>.................] - ETA: 3s - loss: 252.1282"
          ],
          "name": "stdout"
        },
        {
          "output_type": "stream",
          "text": [
            "60000/60000 [==============================] - 7s 118us/step - loss: 251.9818 - val_loss: 253.3893\n",
            "Epoch 22/500\n",
            "60000/60000 [==============================] - 7s 118us/step - loss: 251.6004 - val_loss: 253.2936\n",
            "Epoch 23/500\n",
            "60000/60000 [==============================] - 7s 117us/step - loss: 251.1617 - val_loss: 252.5723\n",
            "Epoch 24/500\n",
            "60000/60000 [==============================] - 7s 117us/step - loss: 250.6850 - val_loss: 252.4655\n",
            "Epoch 25/500\n",
            "60000/60000 [==============================] - 7s 117us/step - loss: 250.4937 - val_loss: 253.2692\n",
            "Epoch 26/500\n",
            "60000/60000 [==============================] - 7s 117us/step - loss: 250.3852 - val_loss: 251.7582\n",
            "Epoch 27/500\n",
            "60000/60000 [==============================] - 7s 116us/step - loss: 249.8818 - val_loss: 251.3136\n",
            "Epoch 28/500\n",
            "28672/60000 [=============>................] - ETA: 3s - loss: 249.3262"
          ],
          "name": "stdout"
        },
        {
          "output_type": "stream",
          "text": [
            "60000/60000 [==============================] - 7s 117us/step - loss: 249.4093 - val_loss: 251.0167\n",
            "Epoch 29/500\n",
            "60000/60000 [==============================] - 7s 116us/step - loss: 249.1277 - val_loss: 250.7392\n",
            "Epoch 30/500\n",
            "60000/60000 [==============================] - 7s 117us/step - loss: 248.8945 - val_loss: 250.4281\n",
            "Epoch 31/500\n",
            "60000/60000 [==============================] - 7s 116us/step - loss: 248.7418 - val_loss: 250.3077\n",
            "Epoch 32/500\n",
            "60000/60000 [==============================] - 7s 117us/step - loss: 248.7470 - val_loss: 250.7042\n",
            "Epoch 33/500\n",
            "60000/60000 [==============================] - 7s 118us/step - loss: 248.4313 - val_loss: 249.8373\n",
            "Epoch 34/500\n",
            "60000/60000 [==============================] - 7s 116us/step - loss: 247.9971 - val_loss: 249.5932\n",
            "Epoch 35/500\n",
            "28672/60000 [=============>................] - ETA: 3s - loss: 247.8161"
          ],
          "name": "stdout"
        },
        {
          "output_type": "stream",
          "text": [
            "60000/60000 [==============================] - 7s 116us/step - loss: 247.8604 - val_loss: 249.3838\n",
            "Epoch 36/500\n",
            "60000/60000 [==============================] - 7s 117us/step - loss: 247.6679 - val_loss: 249.2463\n",
            "Epoch 37/500\n",
            "60000/60000 [==============================] - 7s 117us/step - loss: 247.7166 - val_loss: 249.1985\n",
            "Epoch 38/500\n",
            "60000/60000 [==============================] - 7s 117us/step - loss: 247.2619 - val_loss: 248.8703\n",
            "Epoch 39/500\n",
            "60000/60000 [==============================] - 7s 116us/step - loss: 247.1550 - val_loss: 248.7365\n",
            "Epoch 40/500\n",
            "60000/60000 [==============================] - 7s 116us/step - loss: 247.0228 - val_loss: 248.5554\n",
            "Epoch 41/500\n",
            "60000/60000 [==============================] - 7s 116us/step - loss: 246.8384 - val_loss: 249.4648\n",
            "Epoch 42/500\n",
            "28672/60000 [=============>................] - ETA: 3s - loss: 246.5876"
          ],
          "name": "stdout"
        },
        {
          "output_type": "stream",
          "text": [
            "60000/60000 [==============================] - 7s 117us/step - loss: 246.8191 - val_loss: 248.3832\n",
            "Epoch 43/500\n",
            "60000/60000 [==============================] - 7s 117us/step - loss: 246.8471 - val_loss: 248.6196\n",
            "Epoch 44/500\n",
            "60000/60000 [==============================] - 7s 117us/step - loss: 246.4322 - val_loss: 248.0758\n",
            "Epoch 45/500\n",
            "60000/60000 [==============================] - 7s 117us/step - loss: 246.2177 - val_loss: 247.9502\n",
            "Epoch 46/500\n",
            "60000/60000 [==============================] - 7s 117us/step - loss: 246.1488 - val_loss: 247.8144\n",
            "Epoch 47/500\n",
            "60000/60000 [==============================] - 7s 117us/step - loss: 246.1977 - val_loss: 247.8481\n",
            "Epoch 48/500\n",
            "60000/60000 [==============================] - 7s 117us/step - loss: 245.9115 - val_loss: 247.5360\n",
            "Epoch 49/500\n",
            "28672/60000 [=============>................] - ETA: 3s - loss: 245.2600"
          ],
          "name": "stdout"
        },
        {
          "output_type": "stream",
          "text": [
            "60000/60000 [==============================] - 7s 117us/step - loss: 245.7678 - val_loss: 247.4113\n",
            "Epoch 50/500\n",
            "60000/60000 [==============================] - 7s 117us/step - loss: 245.5718 - val_loss: 247.7229\n",
            "Epoch 51/500\n",
            "60000/60000 [==============================] - 7s 117us/step - loss: 245.5858 - val_loss: 247.2638\n",
            "Epoch 52/500\n",
            "60000/60000 [==============================] - 7s 117us/step - loss: 245.3821 - val_loss: 247.2174\n",
            "Epoch 53/500\n",
            "60000/60000 [==============================] - 7s 117us/step - loss: 245.3508 - val_loss: 247.1398\n",
            "Epoch 54/500\n",
            "60000/60000 [==============================] - 7s 117us/step - loss: 245.4539 - val_loss: 247.0079\n",
            "Epoch 55/500\n",
            "60000/60000 [==============================] - 7s 117us/step - loss: 245.1272 - val_loss: 247.0987\n",
            "Epoch 56/500\n",
            "28672/60000 [=============>................] - ETA: 3s - loss: 245.2845"
          ],
          "name": "stdout"
        },
        {
          "output_type": "stream",
          "text": [
            "60000/60000 [==============================] - 7s 117us/step - loss: 245.0675 - val_loss: 246.7729\n",
            "Epoch 57/500\n",
            "60000/60000 [==============================] - 7s 117us/step - loss: 244.9675 - val_loss: 246.6496\n",
            "Epoch 58/500\n",
            "60000/60000 [==============================] - 7s 117us/step - loss: 244.8502 - val_loss: 246.6929\n",
            "Epoch 59/500\n",
            "60000/60000 [==============================] - 7s 117us/step - loss: 245.0071 - val_loss: 246.6023\n",
            "Epoch 60/500\n",
            "60000/60000 [==============================] - 7s 116us/step - loss: 244.7347 - val_loss: 246.9376\n",
            "Epoch 61/500\n",
            "60000/60000 [==============================] - 7s 117us/step - loss: 244.6086 - val_loss: 246.5948\n",
            "Epoch 62/500\n",
            "60000/60000 [==============================] - 7s 117us/step - loss: 244.6241 - val_loss: 246.2793\n",
            "Epoch 63/500\n",
            "28672/60000 [=============>................] - ETA: 3s - loss: 244.4684"
          ],
          "name": "stdout"
        },
        {
          "output_type": "stream",
          "text": [
            "60000/60000 [==============================] - 7s 117us/step - loss: 244.3923 - val_loss: 246.3859\n",
            "Epoch 64/500\n",
            "60000/60000 [==============================] - 7s 117us/step - loss: 244.3018 - val_loss: 246.1626\n",
            "Epoch 65/500\n",
            "60000/60000 [==============================] - 7s 117us/step - loss: 244.3844 - val_loss: 246.3010\n",
            "Epoch 66/500\n",
            "60000/60000 [==============================] - 7s 117us/step - loss: 244.2544 - val_loss: 246.1819\n",
            "Epoch 67/500\n",
            "60000/60000 [==============================] - 7s 117us/step - loss: 244.1299 - val_loss: 246.3518\n",
            "Epoch 68/500\n",
            "60000/60000 [==============================] - 7s 117us/step - loss: 244.1116 - val_loss: 245.8512\n",
            "Epoch 69/500\n",
            "60000/60000 [==============================] - 7s 116us/step - loss: 243.9770 - val_loss: 245.9926\n",
            "Epoch 70/500\n",
            "28672/60000 [=============>................] - ETA: 3s - loss: 243.8279"
          ],
          "name": "stdout"
        },
        {
          "output_type": "stream",
          "text": [
            "60000/60000 [==============================] - 7s 116us/step - loss: 243.9629 - val_loss: 245.7769\n",
            "Epoch 71/500\n",
            "60000/60000 [==============================] - 7s 117us/step - loss: 243.9501 - val_loss: 246.2219\n",
            "Epoch 72/500\n",
            "60000/60000 [==============================] - 7s 116us/step - loss: 243.9534 - val_loss: 245.7905\n",
            "Epoch 73/500\n",
            "60000/60000 [==============================] - 7s 116us/step - loss: 243.7760 - val_loss: 245.5654\n",
            "Epoch 74/500\n",
            "60000/60000 [==============================] - 7s 116us/step - loss: 243.6283 - val_loss: 245.4159\n",
            "Epoch 75/500\n",
            "60000/60000 [==============================] - 7s 116us/step - loss: 243.5851 - val_loss: 245.4235\n",
            "Epoch 76/500\n",
            "60000/60000 [==============================] - 7s 116us/step - loss: 243.6726 - val_loss: 245.5318\n",
            "Epoch 77/500\n",
            "28672/60000 [=============>................] - ETA: 3s - loss: 243.7622"
          ],
          "name": "stdout"
        },
        {
          "output_type": "stream",
          "text": [
            "60000/60000 [==============================] - 7s 117us/step - loss: 243.4788 - val_loss: 245.7804\n",
            "Epoch 78/500\n",
            "60000/60000 [==============================] - 7s 116us/step - loss: 243.4497 - val_loss: 245.6632\n",
            "Epoch 79/500\n",
            "60000/60000 [==============================] - 7s 116us/step - loss: 243.3091 - val_loss: 245.2887\n",
            "Epoch 80/500\n",
            "60000/60000 [==============================] - 7s 117us/step - loss: 243.3629 - val_loss: 245.3111\n",
            "Epoch 81/500\n",
            "60000/60000 [==============================] - 7s 116us/step - loss: 243.3100 - val_loss: 245.1349\n",
            "Epoch 82/500\n",
            "60000/60000 [==============================] - 7s 116us/step - loss: 243.4449 - val_loss: 245.0599\n",
            "Epoch 83/500\n",
            "60000/60000 [==============================] - 7s 116us/step - loss: 243.1113 - val_loss: 245.3771\n",
            "Epoch 84/500\n",
            "28672/60000 [=============>................] - ETA: 3s - loss: 243.4269"
          ],
          "name": "stdout"
        },
        {
          "output_type": "stream",
          "text": [
            "60000/60000 [==============================] - 7s 116us/step - loss: 243.4343 - val_loss: 245.0472\n",
            "Epoch 85/500\n",
            "60000/60000 [==============================] - 7s 117us/step - loss: 243.0913 - val_loss: 244.8954\n",
            "Epoch 86/500\n",
            "60000/60000 [==============================] - 7s 116us/step - loss: 242.9280 - val_loss: 244.8869\n",
            "Epoch 87/500\n",
            "60000/60000 [==============================] - 7s 116us/step - loss: 242.9562 - val_loss: 244.7348\n",
            "Epoch 88/500\n",
            "60000/60000 [==============================] - 7s 116us/step - loss: 242.9433 - val_loss: 245.4517\n",
            "Epoch 89/500\n",
            "60000/60000 [==============================] - 7s 116us/step - loss: 242.8485 - val_loss: 244.7482\n",
            "Epoch 90/500\n",
            "60000/60000 [==============================] - 7s 116us/step - loss: 242.9841 - val_loss: 244.7930\n",
            "Epoch 91/500\n",
            "28672/60000 [=============>................] - ETA: 3s - loss: 242.9114"
          ],
          "name": "stdout"
        },
        {
          "output_type": "stream",
          "text": [
            "60000/60000 [==============================] - 7s 116us/step - loss: 242.8935 - val_loss: 244.6353\n",
            "Epoch 92/500\n",
            "60000/60000 [==============================] - 7s 116us/step - loss: 242.6459 - val_loss: 244.6616\n",
            "Epoch 93/500\n",
            "60000/60000 [==============================] - 7s 116us/step - loss: 242.5883 - val_loss: 244.7042\n",
            "Epoch 94/500\n",
            "60000/60000 [==============================] - 7s 116us/step - loss: 242.5838 - val_loss: 244.6819\n",
            "Epoch 95/500\n",
            "60000/60000 [==============================] - 7s 116us/step - loss: 242.5626 - val_loss: 244.4785\n",
            "Epoch 96/500\n",
            "60000/60000 [==============================] - 7s 117us/step - loss: 242.5318 - val_loss: 244.6157\n",
            "Epoch 97/500\n",
            "60000/60000 [==============================] - 7s 117us/step - loss: 242.4194 - val_loss: 244.3818\n",
            "Epoch 98/500\n",
            "28672/60000 [=============>................] - ETA: 3s - loss: 242.7678"
          ],
          "name": "stdout"
        },
        {
          "output_type": "stream",
          "text": [
            "60000/60000 [==============================] - 7s 117us/step - loss: 242.3911 - val_loss: 244.4060\n",
            "Epoch 99/500\n",
            "60000/60000 [==============================] - 7s 117us/step - loss: 242.5065 - val_loss: 244.4952\n",
            "Epoch 100/500\n",
            "60000/60000 [==============================] - 7s 117us/step - loss: 242.3418 - val_loss: 244.2931\n",
            "Epoch 101/500\n",
            "60000/60000 [==============================] - 7s 117us/step - loss: 242.4321 - val_loss: 245.0055\n",
            "Epoch 102/500\n",
            "60000/60000 [==============================] - 7s 117us/step - loss: 242.5935 - val_loss: 244.4714\n",
            "Epoch 103/500\n",
            "60000/60000 [==============================] - 7s 116us/step - loss: 242.2555 - val_loss: 244.3517\n",
            "Epoch 104/500\n",
            "60000/60000 [==============================] - 7s 116us/step - loss: 242.2397 - val_loss: 244.3578\n",
            "Epoch 105/500\n",
            "26624/60000 [============>.................] - ETA: 3s - loss: 242.2396"
          ],
          "name": "stdout"
        },
        {
          "output_type": "stream",
          "text": [
            "60000/60000 [==============================] - 7s 117us/step - loss: 242.1101 - val_loss: 244.1379\n",
            "Epoch 106/500\n",
            "60000/60000 [==============================] - 7s 117us/step - loss: 242.1169 - val_loss: 244.7230\n",
            "Epoch 107/500\n",
            "60000/60000 [==============================] - 7s 116us/step - loss: 242.1391 - val_loss: 244.1323\n",
            "Epoch 108/500\n",
            "60000/60000 [==============================] - 7s 117us/step - loss: 241.9870 - val_loss: 244.0005\n",
            "Epoch 109/500\n",
            "60000/60000 [==============================] - 7s 117us/step - loss: 242.0978 - val_loss: 243.9581\n",
            "Epoch 110/500\n",
            "60000/60000 [==============================] - 7s 117us/step - loss: 241.9506 - val_loss: 244.1850\n",
            "Epoch 111/500\n",
            "60000/60000 [==============================] - 7s 117us/step - loss: 241.8435 - val_loss: 244.0690\n",
            "Epoch 112/500\n",
            "26624/60000 [============>.................] - ETA: 3s - loss: 241.9375"
          ],
          "name": "stdout"
        },
        {
          "output_type": "stream",
          "text": [
            "60000/60000 [==============================] - 7s 117us/step - loss: 242.0440 - val_loss: 243.8971\n",
            "Epoch 113/500\n",
            "60000/60000 [==============================] - 7s 117us/step - loss: 241.8928 - val_loss: 243.7453\n",
            "Epoch 114/500\n",
            "60000/60000 [==============================] - 7s 117us/step - loss: 241.7668 - val_loss: 243.7389\n",
            "Epoch 115/500\n",
            "60000/60000 [==============================] - 7s 116us/step - loss: 241.9635 - val_loss: 243.8381\n",
            "Epoch 116/500\n",
            "60000/60000 [==============================] - 7s 117us/step - loss: 241.7102 - val_loss: 243.8003\n",
            "Epoch 117/500\n",
            "60000/60000 [==============================] - 7s 117us/step - loss: 241.6968 - val_loss: 243.5541\n",
            "Epoch 118/500\n",
            "60000/60000 [==============================] - 7s 117us/step - loss: 241.7405 - val_loss: 244.1571\n",
            "Epoch 119/500\n",
            "26624/60000 [============>.................] - ETA: 3s - loss: 241.8978"
          ],
          "name": "stdout"
        },
        {
          "output_type": "stream",
          "text": [
            "60000/60000 [==============================] - 7s 117us/step - loss: 241.6688 - val_loss: 243.5650\n",
            "Epoch 120/500\n",
            "60000/60000 [==============================] - 7s 117us/step - loss: 241.6830 - val_loss: 243.6183\n",
            "Epoch 121/500\n",
            "60000/60000 [==============================] - 7s 116us/step - loss: 241.5883 - val_loss: 243.6267\n",
            "Epoch 122/500\n",
            "60000/60000 [==============================] - 7s 117us/step - loss: 241.6098 - val_loss: 244.0771\n",
            "Epoch 123/500\n",
            "60000/60000 [==============================] - 7s 116us/step - loss: 241.6426 - val_loss: 243.5915\n",
            "Epoch 124/500\n",
            "60000/60000 [==============================] - 7s 117us/step - loss: 241.7105 - val_loss: 243.5145\n",
            "Epoch 125/500\n",
            "60000/60000 [==============================] - 7s 117us/step - loss: 241.4725 - val_loss: 243.5241\n",
            "Epoch 126/500\n",
            "26624/60000 [============>.................] - ETA: 3s - loss: 241.6340"
          ],
          "name": "stdout"
        },
        {
          "output_type": "stream",
          "text": [
            "60000/60000 [==============================] - 7s 118us/step - loss: 241.5347 - val_loss: 243.6179\n",
            "Epoch 127/500\n",
            "60000/60000 [==============================] - 7s 117us/step - loss: 241.4035 - val_loss: 243.4507\n",
            "Epoch 128/500\n",
            "60000/60000 [==============================] - 7s 117us/step - loss: 241.5806 - val_loss: 243.4806\n",
            "Epoch 129/500\n",
            "60000/60000 [==============================] - 7s 117us/step - loss: 241.3424 - val_loss: 243.4359\n",
            "Epoch 130/500\n",
            "60000/60000 [==============================] - 7s 117us/step - loss: 241.2998 - val_loss: 243.3296\n",
            "Epoch 131/500\n",
            "60000/60000 [==============================] - 7s 110us/step - loss: 241.4134 - val_loss: 243.9415\n",
            "Epoch 132/500\n",
            "60000/60000 [==============================] - 5s 82us/step - loss: 241.3316 - val_loss: 243.2425\n",
            "Epoch 133/500\n",
            "28672/60000 [=============>................] - ETA: 2s - loss: 241.3289"
          ],
          "name": "stdout"
        },
        {
          "output_type": "stream",
          "text": [
            "60000/60000 [==============================] - 5s 81us/step - loss: 241.2077 - val_loss: 243.4105\n",
            "Epoch 134/500\n",
            "60000/60000 [==============================] - 5s 82us/step - loss: 241.2213 - val_loss: 243.3591\n",
            "Epoch 135/500\n",
            "60000/60000 [==============================] - 5s 82us/step - loss: 241.2498 - val_loss: 243.1890\n",
            "Epoch 136/500\n",
            "60000/60000 [==============================] - 5s 84us/step - loss: 241.1968 - val_loss: 243.6133\n",
            "Epoch 137/500\n",
            "60000/60000 [==============================] - 5s 83us/step - loss: 241.4490 - val_loss: 243.1955\n",
            "Epoch 138/500\n",
            "60000/60000 [==============================] - 5s 84us/step - loss: 241.1009 - val_loss: 243.1956\n",
            "Epoch 139/500\n",
            "60000/60000 [==============================] - 5s 84us/step - loss: 241.1229 - val_loss: 243.2913\n",
            "Epoch 140/500\n",
            "34816/60000 [================>.............] - ETA: 1s - loss: 241.1702"
          ],
          "name": "stdout"
        },
        {
          "output_type": "stream",
          "text": [
            "60000/60000 [==============================] - 5s 84us/step - loss: 241.0261 - val_loss: 243.0568\n",
            "Epoch 141/500\n",
            "60000/60000 [==============================] - 5s 84us/step - loss: 241.0769 - val_loss: 243.1108\n",
            "Epoch 142/500\n",
            "60000/60000 [==============================] - 5s 83us/step - loss: 241.1421 - val_loss: 242.9675\n",
            "Epoch 143/500\n",
            "60000/60000 [==============================] - 5s 83us/step - loss: 240.9760 - val_loss: 243.1676\n",
            "Epoch 144/500\n",
            "60000/60000 [==============================] - 5s 83us/step - loss: 240.9490 - val_loss: 242.9434\n",
            "Epoch 145/500\n",
            "60000/60000 [==============================] - 5s 83us/step - loss: 240.9863 - val_loss: 243.4067\n",
            "Epoch 146/500\n",
            "60000/60000 [==============================] - 5s 82us/step - loss: 241.2061 - val_loss: 242.9594\n",
            "Epoch 147/500\n",
            "36864/60000 [=================>............] - ETA: 1s - loss: 240.7794"
          ],
          "name": "stdout"
        },
        {
          "output_type": "stream",
          "text": [
            "60000/60000 [==============================] - 5s 81us/step - loss: 241.0022 - val_loss: 242.8391\n",
            "Epoch 148/500\n",
            "60000/60000 [==============================] - 5s 81us/step - loss: 240.8173 - val_loss: 243.0882\n",
            "Epoch 149/500\n",
            "60000/60000 [==============================] - 5s 81us/step - loss: 240.9154 - val_loss: 242.8980\n",
            "Epoch 150/500\n",
            "60000/60000 [==============================] - 5s 80us/step - loss: 240.7882 - val_loss: 242.8255\n",
            "Epoch 151/500\n",
            "60000/60000 [==============================] - 5s 79us/step - loss: 240.8052 - val_loss: 242.9822\n",
            "Epoch 152/500\n",
            "60000/60000 [==============================] - 5s 88us/step - loss: 240.8348 - val_loss: 242.9863\n",
            "Epoch 153/500\n",
            "60000/60000 [==============================] - 7s 117us/step - loss: 240.8764 - val_loss: 243.3074\n",
            "Epoch 154/500\n",
            "32768/60000 [===============>..............] - ETA: 3s - loss: 240.6556"
          ],
          "name": "stdout"
        },
        {
          "output_type": "stream",
          "text": [
            "60000/60000 [==============================] - 7s 117us/step - loss: 240.8261 - val_loss: 243.0710\n",
            "Epoch 155/500\n",
            "60000/60000 [==============================] - 7s 116us/step - loss: 240.6886 - val_loss: 242.6331\n",
            "Epoch 156/500\n",
            "60000/60000 [==============================] - 7s 117us/step - loss: 240.6315 - val_loss: 242.6912\n",
            "Epoch 157/500\n",
            "60000/60000 [==============================] - 7s 116us/step - loss: 240.6950 - val_loss: 242.8448\n",
            "Epoch 158/500\n",
            "60000/60000 [==============================] - 7s 116us/step - loss: 240.8524 - val_loss: 242.7400\n",
            "Epoch 159/500\n",
            "60000/60000 [==============================] - 7s 116us/step - loss: 240.6436 - val_loss: 242.7391\n",
            "Epoch 160/500\n",
            "60000/60000 [==============================] - 7s 116us/step - loss: 240.7007 - val_loss: 242.8354\n",
            "Epoch 161/500\n",
            "26624/60000 [============>.................] - ETA: 3s - loss: 240.7329"
          ],
          "name": "stdout"
        },
        {
          "output_type": "stream",
          "text": [
            "60000/60000 [==============================] - 7s 116us/step - loss: 240.5919 - val_loss: 242.5869\n",
            "Epoch 162/500\n",
            "60000/60000 [==============================] - 7s 116us/step - loss: 240.6290 - val_loss: 242.7651\n",
            "Epoch 163/500\n",
            "60000/60000 [==============================] - 7s 116us/step - loss: 240.5853 - val_loss: 242.5756\n",
            "Epoch 164/500\n",
            "60000/60000 [==============================] - 7s 116us/step - loss: 240.4528 - val_loss: 242.8982\n",
            "Epoch 165/500\n",
            "60000/60000 [==============================] - 7s 116us/step - loss: 240.5288 - val_loss: 243.2612\n",
            "Epoch 166/500\n",
            "60000/60000 [==============================] - 7s 116us/step - loss: 240.6160 - val_loss: 242.5109\n",
            "Epoch 167/500\n",
            "60000/60000 [==============================] - 7s 116us/step - loss: 240.4317 - val_loss: 242.4947\n",
            "Epoch 168/500\n",
            "26624/60000 [============>.................] - ETA: 3s - loss: 240.4844"
          ],
          "name": "stdout"
        },
        {
          "output_type": "stream",
          "text": [
            "60000/60000 [==============================] - 7s 117us/step - loss: 240.6694 - val_loss: 242.8251\n",
            "Epoch 169/500\n",
            "60000/60000 [==============================] - 7s 117us/step - loss: 240.5504 - val_loss: 242.6798\n",
            "Epoch 170/500\n",
            "60000/60000 [==============================] - 7s 116us/step - loss: 240.3691 - val_loss: 242.4296\n",
            "Epoch 171/500\n",
            "60000/60000 [==============================] - 7s 116us/step - loss: 240.4065 - val_loss: 242.5898\n",
            "Epoch 172/500\n",
            "60000/60000 [==============================] - 7s 117us/step - loss: 240.3773 - val_loss: 242.6994\n",
            "Epoch 173/500\n",
            "60000/60000 [==============================] - 7s 117us/step - loss: 240.5222 - val_loss: 242.6257\n",
            "Epoch 174/500\n",
            "60000/60000 [==============================] - 7s 117us/step - loss: 240.3006 - val_loss: 242.3879\n",
            "Epoch 175/500\n",
            "26624/60000 [============>.................] - ETA: 3s - loss: 240.3359"
          ],
          "name": "stdout"
        },
        {
          "output_type": "stream",
          "text": [
            "60000/60000 [==============================] - 7s 117us/step - loss: 240.3792 - val_loss: 242.4795\n",
            "Epoch 176/500\n",
            "60000/60000 [==============================] - 7s 117us/step - loss: 240.3253 - val_loss: 242.5434\n",
            "Epoch 177/500\n",
            "60000/60000 [==============================] - 7s 116us/step - loss: 240.3411 - val_loss: 242.3256\n",
            "Epoch 178/500\n",
            "60000/60000 [==============================] - 7s 116us/step - loss: 240.2893 - val_loss: 242.5859\n",
            "Epoch 179/500\n",
            "60000/60000 [==============================] - 7s 116us/step - loss: 240.3386 - val_loss: 242.7131\n",
            "Epoch 180/500\n",
            "60000/60000 [==============================] - 7s 116us/step - loss: 240.3063 - val_loss: 242.2493\n",
            "Epoch 181/500\n",
            "60000/60000 [==============================] - 7s 116us/step - loss: 240.1734 - val_loss: 243.1280\n",
            "Epoch 182/500\n",
            "26624/60000 [============>.................] - ETA: 3s - loss: 240.2721"
          ],
          "name": "stdout"
        },
        {
          "output_type": "stream",
          "text": [
            "60000/60000 [==============================] - 7s 116us/step - loss: 240.3685 - val_loss: 242.2693\n",
            "Epoch 183/500\n",
            "60000/60000 [==============================] - 7s 116us/step - loss: 240.2608 - val_loss: 242.2480\n",
            "Epoch 184/500\n",
            "60000/60000 [==============================] - 7s 116us/step - loss: 240.1764 - val_loss: 242.6692\n",
            "Epoch 185/500\n",
            "60000/60000 [==============================] - 7s 117us/step - loss: 240.2588 - val_loss: 242.1549\n",
            "Epoch 186/500\n",
            "60000/60000 [==============================] - 7s 116us/step - loss: 240.1645 - val_loss: 242.2045\n",
            "Epoch 187/500\n",
            "60000/60000 [==============================] - 7s 116us/step - loss: 240.1781 - val_loss: 242.3336\n",
            "Epoch 188/500\n",
            "60000/60000 [==============================] - 7s 116us/step - loss: 240.0963 - val_loss: 242.2674\n",
            "Epoch 189/500\n",
            "26624/60000 [============>.................] - ETA: 3s - loss: 240.1060"
          ],
          "name": "stdout"
        },
        {
          "output_type": "stream",
          "text": [
            "60000/60000 [==============================] - 7s 116us/step - loss: 240.0242 - val_loss: 242.4769\n",
            "Epoch 190/500\n",
            "60000/60000 [==============================] - 7s 116us/step - loss: 240.1531 - val_loss: 242.1550\n",
            "Epoch 191/500\n",
            "60000/60000 [==============================] - 7s 116us/step - loss: 240.1076 - val_loss: 242.1198\n",
            "Epoch 192/500\n",
            "60000/60000 [==============================] - 7s 116us/step - loss: 240.0389 - val_loss: 243.0940\n",
            "Epoch 193/500\n",
            "60000/60000 [==============================] - 7s 116us/step - loss: 240.1564 - val_loss: 242.2228\n",
            "Epoch 194/500\n",
            "60000/60000 [==============================] - 7s 116us/step - loss: 240.0399 - val_loss: 242.0442\n",
            "Epoch 195/500\n",
            "60000/60000 [==============================] - 7s 116us/step - loss: 240.0748 - val_loss: 242.1033\n",
            "Epoch 196/500\n",
            "26624/60000 [============>.................] - ETA: 3s - loss: 239.7214"
          ],
          "name": "stdout"
        },
        {
          "output_type": "stream",
          "text": [
            "60000/60000 [==============================] - 7s 116us/step - loss: 240.0385 - val_loss: 242.1639\n",
            "Epoch 197/500\n",
            "60000/60000 [==============================] - 7s 117us/step - loss: 240.0343 - val_loss: 242.4636\n",
            "Epoch 198/500\n",
            "60000/60000 [==============================] - 7s 117us/step - loss: 240.0586 - val_loss: 242.3990\n",
            "Epoch 199/500\n",
            "60000/60000 [==============================] - 7s 116us/step - loss: 240.0648 - val_loss: 242.2125\n",
            "Epoch 200/500\n",
            "60000/60000 [==============================] - 7s 116us/step - loss: 239.9457 - val_loss: 242.3446\n",
            "Epoch 201/500\n",
            "60000/60000 [==============================] - 7s 116us/step - loss: 240.0584 - val_loss: 241.9544\n",
            "Epoch 202/500\n",
            "60000/60000 [==============================] - 7s 116us/step - loss: 239.9522 - val_loss: 242.4555\n",
            "Epoch 203/500\n",
            "26624/60000 [============>.................] - ETA: 3s - loss: 240.4215"
          ],
          "name": "stdout"
        },
        {
          "output_type": "stream",
          "text": [
            "60000/60000 [==============================] - 7s 115us/step - loss: 240.0663 - val_loss: 242.2213\n",
            "Epoch 204/500\n",
            "60000/60000 [==============================] - 7s 116us/step - loss: 239.9680 - val_loss: 242.0175\n",
            "Epoch 205/500\n",
            "60000/60000 [==============================] - 7s 118us/step - loss: 239.8796 - val_loss: 242.0576\n",
            "Epoch 206/500\n",
            "60000/60000 [==============================] - 7s 116us/step - loss: 239.8632 - val_loss: 242.3150\n",
            "Epoch 207/500\n",
            "60000/60000 [==============================] - 7s 116us/step - loss: 239.8730 - val_loss: 241.8403\n",
            "Epoch 208/500\n",
            "60000/60000 [==============================] - 7s 116us/step - loss: 239.7481 - val_loss: 242.1183\n",
            "Epoch 209/500\n",
            "60000/60000 [==============================] - 7s 116us/step - loss: 239.8467 - val_loss: 242.0317\n",
            "Epoch 210/500\n",
            "26624/60000 [============>.................] - ETA: 3s - loss: 239.4168"
          ],
          "name": "stdout"
        },
        {
          "output_type": "stream",
          "text": [
            "60000/60000 [==============================] - 7s 116us/step - loss: 239.8429 - val_loss: 241.9608\n",
            "Epoch 211/500\n",
            "60000/60000 [==============================] - 7s 117us/step - loss: 239.8347 - val_loss: 241.8450\n",
            "Epoch 212/500\n",
            "60000/60000 [==============================] - 7s 116us/step - loss: 239.8161 - val_loss: 241.8846\n",
            "Epoch 213/500\n",
            "60000/60000 [==============================] - 7s 116us/step - loss: 239.9063 - val_loss: 241.9704\n",
            "Epoch 214/500\n",
            "60000/60000 [==============================] - 7s 116us/step - loss: 239.6908 - val_loss: 241.8960\n",
            "Epoch 215/500\n",
            "60000/60000 [==============================] - 7s 116us/step - loss: 239.7286 - val_loss: 242.2110\n",
            "Epoch 216/500\n",
            "60000/60000 [==============================] - 7s 116us/step - loss: 239.7765 - val_loss: 241.8928\n",
            "Epoch 217/500\n",
            "26624/60000 [============>.................] - ETA: 3s - loss: 240.1752"
          ],
          "name": "stdout"
        },
        {
          "output_type": "stream",
          "text": [
            "60000/60000 [==============================] - 7s 117us/step - loss: 239.6862 - val_loss: 241.8622\n",
            "Epoch 00217: early stopping\n"
          ],
          "name": "stdout"
        }
      ]
    },
    {
      "metadata": {
        "id": "XsV4Fu2EfM3y",
        "colab_type": "code",
        "colab": {}
      },
      "cell_type": "code",
      "source": [
        "pred = autoencoder.predict(x_test)"
      ],
      "execution_count": 0,
      "outputs": []
    },
    {
      "metadata": {
        "id": "GT93i35Anmey",
        "colab_type": "code",
        "colab": {
          "base_uri": "https://localhost:8080/",
          "height": 364
        },
        "outputId": "d1679d2e-e297-4b45-be66-5d37153e368a"
      },
      "cell_type": "code",
      "source": [
        "plt.imshow(pred[0].reshape(28, 28), cmap='gray')"
      ],
      "execution_count": 55,
      "outputs": [
        {
          "output_type": "execute_result",
          "data": {
            "text/plain": [
              "<matplotlib.image.AxesImage at 0x7f61d7c85048>"
            ]
          },
          "metadata": {
            "tags": []
          },
          "execution_count": 55
        },
        {
          "output_type": "display_data",
          "data": {
            "image/png": "[encoded data removed]",
            "text/plain": [
              "<matplotlib.figure.Figure at 0x7f61d7bddac8>"
            ]
          },
          "metadata": {
            "tags": []
          }
        }
      ]
    },
    {
      "metadata": {
        "id": "uniLpXGDnsxm",
        "colab_type": "code",
        "colab": {
          "base_uri": "https://localhost:8080/",
          "height": 364
        },
        "outputId": "67d2a89b-d723-4f2f-c6c6-934fe5a5f2ce"
      },
      "cell_type": "code",
      "source": [
        "plt.imshow(x_test[0].reshape(28, 28), cmap='gray')"
      ],
      "execution_count": 56,
      "outputs": [
        {
          "output_type": "execute_result",
          "data": {
            "text/plain": [
              "<matplotlib.image.AxesImage at 0x7f61d49b6c88>"
            ]
          },
          "metadata": {
            "tags": []
          },
          "execution_count": 56
        },
        {
          "output_type": "display_data",
          "data": {
            "image/png": "[encoded data removed]",
            "text/plain": [
              "<matplotlib.figure.Figure at 0x7f61d7c29390>"
            ]
          },
          "metadata": {
            "tags": []
          }
        }
      ]
    },
    {
      "metadata": {
        "id": "qYbAza8In0zG",
        "colab_type": "code",
        "colab": {}
      },
      "cell_type": "code",
      "source": [
        "def rms(x,y):\n",
        "  a=(x^2-y^2)\n",
        "  return a"
      ],
      "execution_count": 0,
      "outputs": []
    },
    {
      "metadata": {
        "id": "VGHgU2O5okzZ",
        "colab_type": "code",
        "colab": {}
      },
      "cell_type": "code",
      "source": [
        "score=autoencoder.evaluate(pred,y_test,verbose=0)\n"
      ],
      "execution_count": 0,
      "outputs": []
    },
    {
      "metadata": {
        "id": "2r-31Dgxomy-",
        "colab_type": "code",
        "colab": {}
      },
      "cell_type": "code",
      "source": [
        ""
      ],
      "execution_count": 0,
      "outputs": []
    },
    {
      "metadata": {
        "id": "0FTDQ_KGqtPY",
        "colab_type": "code",
        "colab": {}
      },
      "cell_type": "code",
      "source": [
        ""
      ],
      "execution_count": 0,
      "outputs": []
    }
  ]
}
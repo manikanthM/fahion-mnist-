{
  "nbformat": 4,
  "nbformat_minor": 0,
  "metadata": {
    "colab": {
      "name": "CNN(FASHION).ipynb",
      "version": "0.3.2",
      "provenance": [],
      "include_colab_link": true
    },
    "kernelspec": {
      "name": "python3",
      "display_name": "Python 3"
    }
  },
  "cells": [
    {
      "cell_type": "markdown",
      "metadata": {
        "id": "view-in-github",
        "colab_type": "text"
      },
      "source": [
        "[View in Colaboratory](https://colab.research.google.com/github/manikanthM/hello-world/blob/master/CNN(FASHION).ipynb)"
      ]
    },
    {
      "metadata": {
        "id": "lcfN78IujfxE",
        "colab_type": "code",
        "colab": {
          "base_uri": "https://localhost:8080/",
          "height": 1023
        },
        "outputId": "1e654c35-66af-4314-e6c5-c2fc141b6125"
      },
      "cell_type": "code",
      "source": [
        "from __future__ import print_function\n",
        "import numpy as np\n",
        "from keras.datasets import fashion_mnist\n",
        "import keras\n",
        "from keras.models import Sequential\n",
        "from keras.layers import Dense, Dropout, Flatten\n",
        "from keras.layers import Conv2D, MaxPooling2D\n",
        "from keras import backend as K\n",
        "\n",
        "batch_size = 128\n",
        "num_classes = 10\n",
        "epochs = 30\n",
        "\n",
        "img_rows, img_cols = 28, 28\n",
        "\n",
        "\n",
        "(x_train, y_train),(x_test, y_test ) = fashion_mnist.load_data()\n",
        "\n",
        "x_train = np.array(x_train)\n",
        "y_train = np.array(y_train)\n",
        "x_test = np.array(x_test)\n",
        "y_test = np.array(y_test)\n",
        "\n",
        "if K.image_data_format() == 'channels_first':\n",
        "    x_train = x_train.reshape(x_train.shape[0], 1, img_rows, img_cols)\n",
        "    x_test = x_test.reshape(x_test.shape[0], 1, img_rows, img_cols)\n",
        "    input_shape = (1, img_rows, img_cols)\n",
        "else:\n",
        "    x_train = x_train.reshape(x_train.shape[0], img_rows, img_cols, 1)\n",
        "    x_test = x_test.reshape(x_test.shape[0], img_rows, img_cols, 1)\n",
        "    input_shape = (img_rows, img_cols, 1)\n",
        "\n",
        "x_train = x_train.astype('float32')\n",
        "x_test = x_test.astype('float32')\n",
        "x_train /= 255\n",
        "x_test /= 255\n",
        "print('x_train shape:', x_train.shape)\n",
        "print(x_train.shape[0], 'train samples')\n",
        "print(x_test.shape[0], 'test samples')\n",
        "\n",
        "\n",
        "y_train = keras.utils.to_categorical(y_train, num_classes)\n",
        "y_test = keras.utils.to_categorical(y_test, num_classes)\n",
        "\n",
        "model = Sequential()\n",
        "model.add(Conv2D(32, kernel_size=(3, 3),\n",
        "                 activation='relu',\n",
        "                 input_shape=input_shape))\n",
        "model.add(Conv2D(64, (3, 3), activation='relu'))\n",
        "model.add(MaxPooling2D(pool_size=(2, 2)))\n",
        "model.add(Dropout(0.25))\n",
        "model.add(Flatten())\n",
        "model.add(Dense(128, activation='relu'))\n",
        "model.add(Dropout(0.5))\n",
        "model.add(Dense(num_classes, activation='softmax'))\n",
        "\n",
        "model.compile(loss=keras.losses.categorical_crossentropy,\n",
        "              optimizer=keras.optimizers.Nadam(),\n",
        "              metrics=['accuracy'])\n",
        "\n",
        "model.fit(x_train, y_train,\n",
        "          batch_size=batch_size,\n",
        "          epochs=epochs,\n",
        "          verbose=1,\n",
        "          validation_data=(x_test, y_test))\n",
        "score = model.evaluate(x_test, y_test, verbose=0)\n",
        "print('Test loss:', score[0])\n",
        "print('Test accuracy:', score[1])"
      ],
      "execution_count": 0,
      "outputs": [
        {
          "output_type": "stream",
          "text": [
            "x_train shape: (60000, 28, 28, 1)\n",
            "60000 train samples\n",
            "10000 test samples\n",
            "Train on 60000 samples, validate on 10000 samples\n",
            "Epoch 1/30\n",
            "58368/60000 [============================>.] - ETA: 4s - loss: 0.4851 - acc: 0.8279"
          ],
          "name": "stdout"
        },
        {
          "output_type": "stream",
          "text": [
            "60000/60000 [==============================] - 161s 3ms/step - loss: 0.4819 - acc: 0.8288 - val_loss: 0.3126 - val_acc: 0.8830\n",
            "Epoch 2/30\n",
            "56704/60000 [===========================>..] - ETA: 8s - loss: 0.3053 - acc: 0.8892"
          ],
          "name": "stdout"
        },
        {
          "output_type": "stream",
          "text": [
            "60000/60000 [==============================] - 159s 3ms/step - loss: 0.3050 - acc: 0.8894 - val_loss: 0.2572 - val_acc: 0.9059\n",
            "Epoch 3/30\n",
            "56064/60000 [===========================>..] - ETA: 9s - loss: 0.2575 - acc: 0.9070"
          ],
          "name": "stdout"
        },
        {
          "output_type": "stream",
          "text": [
            "60000/60000 [==============================] - 154s 3ms/step - loss: 0.2575 - acc: 0.9072 - val_loss: 0.2414 - val_acc: 0.9101\n",
            "Epoch 4/30\n",
            "55808/60000 [==========================>...] - ETA: 10s - loss: 0.2300 - acc: 0.9144"
          ],
          "name": "stdout"
        },
        {
          "output_type": "stream",
          "text": [
            "60000/60000 [==============================] - 151s 3ms/step - loss: 0.2297 - acc: 0.9146 - val_loss: 0.2306 - val_acc: 0.9156\n",
            "Epoch 5/30\n",
            "55680/60000 [==========================>...] - ETA: 10s - loss: 0.2071 - acc: 0.9233"
          ],
          "name": "stdout"
        },
        {
          "output_type": "stream",
          "text": [
            "60000/60000 [==============================] - 153s 3ms/step - loss: 0.2075 - acc: 0.9236 - val_loss: 0.2294 - val_acc: 0.9164\n",
            "Epoch 6/30\n",
            "55680/60000 [==========================>...] - ETA: 10s - loss: 0.1886 - acc: 0.9296"
          ],
          "name": "stdout"
        },
        {
          "output_type": "stream",
          "text": [
            "60000/60000 [==============================] - 147s 2ms/step - loss: 0.1884 - acc: 0.9297 - val_loss: 0.2299 - val_acc: 0.9174\n",
            "Epoch 7/30\n",
            "55680/60000 [==========================>...] - ETA: 9s - loss: 0.1759 - acc: 0.9351 "
          ],
          "name": "stdout"
        },
        {
          "output_type": "stream",
          "text": [
            "60000/60000 [==============================] - 145s 2ms/step - loss: 0.1777 - acc: 0.9345 - val_loss: 0.2219 - val_acc: 0.9227\n",
            "Epoch 8/30\n",
            "55680/60000 [==========================>...] - ETA: 9s - loss: 0.1625 - acc: 0.9379 "
          ],
          "name": "stdout"
        },
        {
          "output_type": "stream",
          "text": [
            "60000/60000 [==============================] - 144s 2ms/step - loss: 0.1633 - acc: 0.9377 - val_loss: 0.2285 - val_acc: 0.9200\n",
            "Epoch 9/30\n",
            "55680/60000 [==========================>...] - ETA: 9s - loss: 0.1528 - acc: 0.9416 "
          ],
          "name": "stdout"
        },
        {
          "output_type": "stream",
          "text": [
            "60000/60000 [==============================] - 143s 2ms/step - loss: 0.1535 - acc: 0.9411 - val_loss: 0.2217 - val_acc: 0.9250\n",
            "Epoch 10/30\n",
            "55424/60000 [==========================>...] - ETA: 10s - loss: 0.1424 - acc: 0.9463"
          ],
          "name": "stdout"
        },
        {
          "output_type": "stream",
          "text": [
            "60000/60000 [==============================] - 142s 2ms/step - loss: 0.1429 - acc: 0.9461 - val_loss: 0.2289 - val_acc: 0.9234\n",
            "Epoch 11/30\n",
            "55296/60000 [==========================>...] - ETA: 10s - loss: 0.1344 - acc: 0.9491"
          ],
          "name": "stdout"
        },
        {
          "output_type": "stream",
          "text": [
            "60000/60000 [==============================] - 141s 2ms/step - loss: 0.1356 - acc: 0.9487 - val_loss: 0.2337 - val_acc: 0.9239\n",
            "Epoch 12/30\n",
            "55296/60000 [==========================>...] - ETA: 10s - loss: 0.1274 - acc: 0.9517"
          ],
          "name": "stdout"
        },
        {
          "output_type": "stream",
          "text": [
            "60000/60000 [==============================] - 139s 2ms/step - loss: 0.1274 - acc: 0.9514 - val_loss: 0.2370 - val_acc: 0.9269\n",
            "Epoch 13/30\n",
            "55296/60000 [==========================>...] - ETA: 10s - loss: 0.1246 - acc: 0.9518"
          ],
          "name": "stdout"
        },
        {
          "output_type": "stream",
          "text": [
            "60000/60000 [==============================] - 140s 2ms/step - loss: 0.1252 - acc: 0.9517 - val_loss: 0.2245 - val_acc: 0.9303\n",
            "Epoch 14/30\n",
            "55296/60000 [==========================>...] - ETA: 10s - loss: 0.1162 - acc: 0.9557"
          ],
          "name": "stdout"
        },
        {
          "output_type": "stream",
          "text": [
            "60000/60000 [==============================] - 139s 2ms/step - loss: 0.1166 - acc: 0.9555 - val_loss: 0.2462 - val_acc: 0.9288\n",
            "Epoch 15/30\n",
            "55296/60000 [==========================>...] - ETA: 10s - loss: 0.1113 - acc: 0.9578"
          ],
          "name": "stdout"
        },
        {
          "output_type": "stream",
          "text": [
            "60000/60000 [==============================] - 141s 2ms/step - loss: 0.1121 - acc: 0.9574 - val_loss: 0.2505 - val_acc: 0.9265\n",
            "Epoch 16/30\n",
            "55296/60000 [==========================>...] - ETA: 10s - loss: 0.1088 - acc: 0.9586"
          ],
          "name": "stdout"
        },
        {
          "output_type": "stream",
          "text": [
            "60000/60000 [==============================] - 142s 2ms/step - loss: 0.1092 - acc: 0.9585 - val_loss: 0.2443 - val_acc: 0.9287\n",
            "Epoch 17/30\n",
            "55296/60000 [==========================>...] - ETA: 10s - loss: 0.1051 - acc: 0.9593"
          ],
          "name": "stdout"
        },
        {
          "output_type": "stream",
          "text": [
            "60000/60000 [==============================] - 143s 2ms/step - loss: 0.1060 - acc: 0.9590 - val_loss: 0.2385 - val_acc: 0.9284\n",
            "Epoch 18/30\n",
            "55296/60000 [==========================>...] - ETA: 10s - loss: 0.1014 - acc: 0.9612"
          ],
          "name": "stdout"
        },
        {
          "output_type": "stream",
          "text": [
            "60000/60000 [==============================] - 142s 2ms/step - loss: 0.1020 - acc: 0.9609 - val_loss: 0.2663 - val_acc: 0.9287\n",
            "Epoch 19/30\n",
            "55296/60000 [==========================>...] - ETA: 10s - loss: 0.0968 - acc: 0.9634"
          ],
          "name": "stdout"
        },
        {
          "output_type": "stream",
          "text": [
            "60000/60000 [==============================] - 142s 2ms/step - loss: 0.0980 - acc: 0.9630 - val_loss: 0.2526 - val_acc: 0.9310\n",
            "Epoch 20/30\n",
            "55296/60000 [==========================>...] - ETA: 11s - loss: 0.0916 - acc: 0.9645"
          ],
          "name": "stdout"
        },
        {
          "output_type": "stream",
          "text": [
            "60000/60000 [==============================] - 152s 3ms/step - loss: 0.0921 - acc: 0.9641 - val_loss: 0.2690 - val_acc: 0.9291\n",
            "Epoch 21/30\n",
            "55296/60000 [==========================>...] - ETA: 11s - loss: 0.0887 - acc: 0.9658"
          ],
          "name": "stdout"
        },
        {
          "output_type": "stream",
          "text": [
            "60000/60000 [==============================] - 157s 3ms/step - loss: 0.0881 - acc: 0.9661 - val_loss: 0.2931 - val_acc: 0.9262\n",
            "Epoch 22/30\n",
            "55296/60000 [==========================>...] - ETA: 11s - loss: 0.0928 - acc: 0.9649"
          ],
          "name": "stdout"
        },
        {
          "output_type": "stream",
          "text": [
            "60000/60000 [==============================] - 159s 3ms/step - loss: 0.0934 - acc: 0.9645 - val_loss: 0.2878 - val_acc: 0.9279\n",
            "Epoch 23/30\n",
            "55296/60000 [==========================>...] - ETA: 11s - loss: 0.0884 - acc: 0.9663"
          ],
          "name": "stdout"
        },
        {
          "output_type": "stream",
          "text": [
            "60000/60000 [==============================] - 158s 3ms/step - loss: 0.0899 - acc: 0.9657 - val_loss: 0.2488 - val_acc: 0.9311\n",
            "Epoch 24/30\n",
            "55296/60000 [==========================>...] - ETA: 11s - loss: 0.0847 - acc: 0.9678"
          ],
          "name": "stdout"
        },
        {
          "output_type": "stream",
          "text": [
            "60000/60000 [==============================] - 158s 3ms/step - loss: 0.0854 - acc: 0.9675 - val_loss: 0.2722 - val_acc: 0.9288\n",
            "Epoch 25/30\n",
            "55296/60000 [==========================>...] - ETA: 11s - loss: 0.0854 - acc: 0.9677"
          ],
          "name": "stdout"
        },
        {
          "output_type": "stream",
          "text": [
            "60000/60000 [==============================] - 154s 3ms/step - loss: 0.0853 - acc: 0.9676 - val_loss: 0.2926 - val_acc: 0.9286\n",
            "Epoch 26/30\n",
            "55296/60000 [==========================>...] - ETA: 11s - loss: 0.0810 - acc: 0.9685"
          ],
          "name": "stdout"
        },
        {
          "output_type": "stream",
          "text": [
            "60000/60000 [==============================] - 155s 3ms/step - loss: 0.0806 - acc: 0.9686 - val_loss: 0.2893 - val_acc: 0.9276\n",
            "Epoch 27/30\n",
            "55296/60000 [==========================>...] - ETA: 11s - loss: 0.0777 - acc: 0.9697"
          ],
          "name": "stdout"
        },
        {
          "output_type": "stream",
          "text": [
            "58240/60000 [============================>.] - ETA: 4s - loss: 0.0785 - acc: 0.9695"
          ],
          "name": "stdout"
        }
      ]
    },
    {
      "metadata": {
        "id": "l0IjBEoYe_Kf",
        "colab_type": "code",
        "colab": {
          "base_uri": "https://localhost:8080/",
          "height": 37
        },
        "outputId": "101c1ae7-7aeb-47b6-ac8b-554f505783da"
      },
      "cell_type": "code",
      "source": [
        ""
      ],
      "execution_count": 22,
      "outputs": []
    },
    {
      "metadata": {
        "id": "yzBV2vXTgdKg",
        "colab_type": "code",
        "colab": {
          "base_uri": "https://localhost:8080/",
          "height": 37
        },
        "outputId": "f53fe9a9-d274-4c9f-bd46-6af67aa775e9"
      },
      "cell_type": "code",
      "source": [
        ""
      ],
      "execution_count": 23,
      "outputs": []
    },
    {
      "metadata": {
        "id": "AsuWot0ng1L_",
        "colab_type": "code",
        "colab": {
          "base_uri": "https://localhost:8080/",
          "height": 37
        },
        "outputId": "9d0ed83f-2a12-4cd4-e728-96c6ef095398"
      },
      "cell_type": "code",
      "source": [
        ""
      ],
      "execution_count": 24,
      "outputs": []
    },
    {
      "metadata": {
        "id": "25PF07LPj40f",
        "colab_type": "code",
        "colab": {
          "base_uri": "https://localhost:8080/",
          "height": 17
        },
        "outputId": "d6204a0f-1055-4a90-b967-783bce2458a5"
      },
      "cell_type": "code",
      "source": [
        ""
      ],
      "execution_count": 12,
      "outputs": []
    },
    {
      "metadata": {
        "id": "yRFoLQX6kPEN",
        "colab_type": "code",
        "colab": {
          "base_uri": "https://localhost:8080/",
          "height": 37
        },
        "outputId": "9251ab33-f136-41f3-ad15-ab7a567565f7"
      },
      "cell_type": "code",
      "source": [
        ""
      ],
      "execution_count": 25,
      "outputs": []
    },
    {
      "metadata": {
        "id": "taQBNs8ukSHd",
        "colab_type": "code",
        "colab": {
          "base_uri": "https://localhost:8080/",
          "height": 37
        },
        "outputId": "f0c6fe0f-54b5-471d-de97-7779acfa7eea"
      },
      "cell_type": "code",
      "source": [
        ""
      ],
      "execution_count": 26,
      "outputs": []
    },
    {
      "metadata": {
        "id": "0-_GDe96lONj",
        "colab_type": "code",
        "colab": {
          "base_uri": "https://localhost:8080/",
          "height": 37
        },
        "outputId": "a4c73cb8-c3dc-496f-f936-4d822e290898"
      },
      "cell_type": "code",
      "source": [
        ""
      ],
      "execution_count": 26,
      "outputs": []
    },
    {
      "metadata": {
        "id": "kQ8KzHxItT-T",
        "colab_type": "code",
        "colab": {
          "base_uri": "https://localhost:8080/",
          "height": 459
        },
        "outputId": "1d6262d5-446d-40a1-a869-3468217a5a18"
      },
      "cell_type": "code",
      "source": [
        "print(clf.summary())"
      ],
      "execution_count": 27,
      "outputs": [
        {
          "output_type": "stream",
          "text": [
            "_________________________________________________________________\n",
            "Layer (type)                 Output Shape              Param #   \n",
            "=================================================================\n",
            "conv2d_7 (Conv2D)            (None, 26, 26, 32)        320       \n",
            "_________________________________________________________________\n",
            "conv2d_8 (Conv2D)            (None, 24, 24, 32)        9248      \n",
            "_________________________________________________________________\n",
            "max_pooling2d_3 (MaxPooling2 (None, 12, 12, 32)        0         \n",
            "_________________________________________________________________\n",
            "conv2d_9 (Conv2D)            (None, 10, 10, 64)        18496     \n",
            "_________________________________________________________________\n",
            "dropout_3 (Dropout)          (None, 10, 10, 64)        0         \n",
            "_________________________________________________________________\n",
            "flatten_3 (Flatten)          (None, 6400)              0         \n",
            "_________________________________________________________________\n",
            "dense_7 (Dense)              (None, 128)               819328    \n",
            "_________________________________________________________________\n",
            "dense_8 (Dense)              (None, 50)                6450      \n",
            "_________________________________________________________________\n",
            "dense_9 (Dense)              (None, 10)                510       \n",
            "=================================================================\n",
            "Total params: 854,352\n",
            "Trainable params: 854,352\n",
            "Non-trainable params: 0\n",
            "_________________________________________________________________\n",
            "None\n"
          ],
          "name": "stdout"
        }
      ]
    },
    {
      "metadata": {
        "id": "szmlZkwx1Sck",
        "colab_type": "code",
        "colab": {
          "base_uri": "https://localhost:8080/",
          "height": 17
        },
        "outputId": "fed99fcf-0a66-40d3-b7ef-5f095c1903dc"
      },
      "cell_type": "code",
      "source": [
        ""
      ],
      "execution_count": 12,
      "outputs": []
    },
    {
      "metadata": {
        "id": "p-KX9vUK5pQJ",
        "colab_type": "code",
        "colab": {
          "base_uri": "https://localhost:8080/",
          "height": 173
        },
        "outputId": "c0eb43a7-5cd7-4198-a17f-65ea5b3520b8"
      },
      "cell_type": "code",
      "source": [
        ""
      ],
      "execution_count": 3,
      "outputs": [
        {
          "output_type": "stream",
          "text": [
            "x_train shape: (60000, 28, 28, 1)\n",
            "60000 train samples\n",
            "10000 test samples\n",
            "Train on 60000 samples, validate on 10000 samples\n",
            "Epoch 1/1\n",
            "58624/60000 [============================>.] - ETA: 3s - loss: 0.5919 - acc: 0.7907"
          ],
          "name": "stdout"
        },
        {
          "output_type": "stream",
          "text": [
            "60000/60000 [==============================] - 152s 3ms/step - loss: 0.5882 - acc: 0.7922 - val_loss: 0.3769 - val_acc: 0.8568\n",
            "Test loss: 0.3768753536462784\n",
            "Test accuracy: 0.8568\n"
          ],
          "name": "stdout"
        }
      ]
    },
    {
      "metadata": {
        "id": "eRtCPzVXP6l5",
        "colab_type": "code",
        "colab": {
          "base_uri": "https://localhost:8080/",
          "height": 367
        },
        "outputId": "f075618b-e045-4b29-ee32-951004337cbb"
      },
      "cell_type": "code",
      "source": [
        ""
      ],
      "execution_count": 6,
      "outputs": [
        {
          "output_type": "error",
          "ename": "ImportError",
          "evalue": "ignored",
          "traceback": [
            "\u001b[0;31m---------------------------------------------------------------------------\u001b[0m",
            "\u001b[0;31mImportError\u001b[0m                               Traceback (most recent call last)",
            "\u001b[0;32m<ipython-input-6-d66cd13aa156>\u001b[0m in \u001b[0;36m<module>\u001b[0;34m()\u001b[0m\n\u001b[1;32m      1\u001b[0m \u001b[0;32mfrom\u001b[0m \u001b[0m__future__\u001b[0m \u001b[0;32mimport\u001b[0m \u001b[0mprint_function\u001b[0m\u001b[0;34m\u001b[0m\u001b[0m\n\u001b[1;32m      2\u001b[0m \u001b[0;32mimport\u001b[0m \u001b[0mnumpy\u001b[0m \u001b[0;32mas\u001b[0m \u001b[0mnp\u001b[0m\u001b[0;34m\u001b[0m\u001b[0m\n\u001b[0;32m----> 3\u001b[0;31m \u001b[0;32mfrom\u001b[0m \u001b[0mmnist\u001b[0m \u001b[0;32mimport\u001b[0m \u001b[0mMNIST\u001b[0m\u001b[0;34m\u001b[0m\u001b[0m\n\u001b[0m\u001b[1;32m      4\u001b[0m \u001b[0;32mimport\u001b[0m \u001b[0mkeras\u001b[0m\u001b[0;34m\u001b[0m\u001b[0m\n\u001b[1;32m      5\u001b[0m \u001b[0;32mfrom\u001b[0m \u001b[0mkeras\u001b[0m\u001b[0;34m.\u001b[0m\u001b[0mmodels\u001b[0m \u001b[0;32mimport\u001b[0m \u001b[0mSequential\u001b[0m\u001b[0;34m\u001b[0m\u001b[0m\n",
            "\u001b[0;31mImportError\u001b[0m: cannot import name 'MNIST'",
            "",
            "\u001b[0;31m---------------------------------------------------------------------------\u001b[0;32m\nNOTE: If your import is failing due to a missing package, you can\nmanually install dependencies using either !pip or !apt.\n\nTo view examples of installing some common dependencies, click the\n\"Open Examples\" button below.\n\u001b[0;31m---------------------------------------------------------------------------\u001b[0m\n"
          ]
        }
      ]
    },
    {
      "metadata": {
        "id": "GGpM12MsjX4b",
        "colab_type": "code",
        "colab": {
          "base_uri": "https://localhost:8080/",
          "height": 51
        },
        "outputId": "6183ea3a-91f9-437d-91e3-bb6645f213c3"
      },
      "cell_type": "code",
      "source": [
        "!pip install mnist\n"
      ],
      "execution_count": 7,
      "outputs": [
        {
          "output_type": "stream",
          "text": [
            "Requirement already satisfied: mnist in /usr/local/lib/python3.6/dist-packages (0.2.1)\r\n",
            "Requirement already satisfied: numpy in /usr/local/lib/python3.6/dist-packages (from mnist) (1.14.5)\r\n"
          ],
          "name": "stdout"
        }
      ]
    },
    {
      "metadata": {
        "id": "a51wbeRAjkoX",
        "colab_type": "code",
        "colab": {}
      },
      "cell_type": "code",
      "source": [
        ""
      ],
      "execution_count": 0,
      "outputs": []
    }
  ]
}
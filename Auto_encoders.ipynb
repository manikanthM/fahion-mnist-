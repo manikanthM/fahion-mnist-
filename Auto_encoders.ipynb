{
  "nbformat": 4,
  "nbformat_minor": 0,
  "metadata": {
    "colab": {
      "name": "Auto encoders.ipynb",
      "version": "0.3.2",
      "provenance": []
    },
    "kernelspec": {
      "name": "python3",
      "display_name": "Python 3"
    }
  },
  "cells": [
    {
      "cell_type": "markdown",
      "metadata": {
        "id": "view-in-github",
        "colab_type": "text"
      },
      "source": [
        "[View in Colaboratory](https://colab.research.google.com/github/manikanthM/hello-world/blob/master/Auto_encoders.ipynb)"
      ]
    },
    {
      "metadata": {
        "id": "UKhQvcspSPy6",
        "colab_type": "code",
        "colab": {}
      },
      "cell_type": "code",
      "source": [
        "import keras\n",
        "from keras.datasets import fashion_mnist\n",
        "import numpy as np\n",
        "import pandas as pd\n",
        "from pandas import DataFrame,Series"
      ],
      "execution_count": 0,
      "outputs": []
    },
    {
      "metadata": {
        "id": "IasZpPYASvnT",
        "colab_type": "code",
        "colab": {}
      },
      "cell_type": "code",
      "source": [
        "(train_x,train_y),(val_x,val_y)=fashion_mnist.load_data()"
      ],
      "execution_count": 0,
      "outputs": []
    },
    {
      "metadata": {
        "id": "3E0zpFDgTAWw",
        "colab_type": "code",
        "colab": {}
      },
      "cell_type": "code",
      "source": [
        "train_x=train_x/255\n",
        "val_x=val_x/255\n",
        "\n",
        "train_x=train_x.reshape(-1,784)\n",
        "val_x=val_x.reshape(-1,784)"
      ],
      "execution_count": 0,
      "outputs": []
    },
    {
      "metadata": {
        "id": "XffJGfanTf3v",
        "colab_type": "code",
        "colab": {
          "base_uri": "https://localhost:8080/",
          "height": 34
        },
        "outputId": "6ab9edb3-c03f-45a1-8651-727789189757"
      },
      "cell_type": "code",
      "source": [
        "from keras.layers import Dense,Input\n",
        "from keras.models import Model\n",
        "from keras.layers.advanced_activations import LeakyReLU\n",
        "keras.layers.LeakyReLU(alpha=0.3)"
      ],
      "execution_count": 27,
      "outputs": [
        {
          "output_type": "execute_result",
          "data": {
            "text/plain": [
              "<keras.layers.advanced_activations.LeakyReLU at 0x7f6990ee25f8>"
            ]
          },
          "metadata": {
            "tags": []
          },
          "execution_count": 27
        }
      ]
    },
    {
      "metadata": {
        "id": "zDu1b9juUaNT",
        "colab_type": "code",
        "colab": {}
      },
      "cell_type": "code",
      "source": [
        "input_img=Input(shape=(784,))\n",
        "encoded=Dense(1500,activation='relu')(input_img)\n",
        "encoded_1=Dense(500,activation='relu')(encoded)\n",
        "encoded_2=Dense(500,activation='relu')(encoded_1)\n",
        "encoded_3=Dense(10,activation='sigmoid')(encoded_2)\n",
        "\n",
        "decoded=Dense(500,activation='relu')(encoded_3)\n",
        "decoded_1=Dense(500,activation='relu')(decoded)\n",
        "decoded_2=Dense(1500,activation='relu')(decoded_1)\n",
        "decoded_3=Dense(784)(decoded_2)\n",
        "\n",
        "autoencoder=Model(input_img,decoded_3)\n"
      ],
      "execution_count": 0,
      "outputs": []
    },
    {
      "metadata": {
        "id": "HKt_5Av8ceRt",
        "colab_type": "code",
        "colab": {
          "base_uri": "https://localhost:8080/",
          "height": 442
        },
        "outputId": "1a74ac68-4099-4173-b377-dbf0d1546c12"
      },
      "cell_type": "code",
      "source": [
        "autoencoder.summary()"
      ],
      "execution_count": 32,
      "outputs": [
        {
          "output_type": "stream",
          "text": [
            "_________________________________________________________________\n",
            "Layer (type)                 Output Shape              Param #   \n",
            "=================================================================\n",
            "input_3 (InputLayer)         (None, 784)               0         \n",
            "_________________________________________________________________\n",
            "dense_10 (Dense)             (None, 1500)              1177500   \n",
            "_________________________________________________________________\n",
            "dense_11 (Dense)             (None, 500)               750500    \n",
            "_________________________________________________________________\n",
            "dense_12 (Dense)             (None, 500)               250500    \n",
            "_________________________________________________________________\n",
            "dense_13 (Dense)             (None, 10)                5010      \n",
            "_________________________________________________________________\n",
            "dense_14 (Dense)             (None, 500)               5500      \n",
            "_________________________________________________________________\n",
            "dense_15 (Dense)             (None, 500)               250500    \n",
            "_________________________________________________________________\n",
            "dense_16 (Dense)             (None, 1500)              751500    \n",
            "_________________________________________________________________\n",
            "dense_17 (Dense)             (None, 784)               1176784   \n",
            "=================================================================\n",
            "Total params: 4,367,794\n",
            "Trainable params: 4,367,794\n",
            "Non-trainable params: 0\n",
            "_________________________________________________________________\n"
          ],
          "name": "stdout"
        }
      ]
    },
    {
      "metadata": {
        "id": "S0Xx1upmc4OZ",
        "colab_type": "code",
        "colab": {}
      },
      "cell_type": "code",
      "source": [
        "encoder=Model(input_img,encoded)"
      ],
      "execution_count": 0,
      "outputs": []
    },
    {
      "metadata": {
        "id": "bsHk90j_dLZq",
        "colab_type": "code",
        "colab": {}
      },
      "cell_type": "code",
      "source": [
        "from keras.optimizers import SGD\n",
        "autoencoder.compile(optimizer='adam',loss='mse')"
      ],
      "execution_count": 0,
      "outputs": []
    },
    {
      "metadata": {
        "id": "PBsAySpUdg0a",
        "colab_type": "code",
        "colab": {}
      },
      "cell_type": "code",
      "source": [
        "from keras import callbacks \n",
        "estop=keras.callbacks.EarlyStopping(monitor='val_loss',min_delta=0,patience=10,verbose=1,mode='auto')"
      ],
      "execution_count": 0,
      "outputs": []
    },
    {
      "metadata": {
        "id": "ETNlhxNOhZfu",
        "colab_type": "code",
        "colab": {
          "base_uri": "https://localhost:8080/",
          "height": 4882
        },
        "outputId": "88c249f8-a52b-46fc-d1cf-060ef5d0df36"
      },
      "cell_type": "code",
      "source": [
        "train_history=autoencoder.fit(train_x,train_x,epochs=500,batch_size=2048,validation_data=(val_x,val_x))"
      ],
      "execution_count": 0,
      "outputs": [
        {
          "output_type": "stream",
          "text": [
            "Train on 60000 samples, validate on 10000 samples\n",
            "Epoch 1/500\n",
            "60000/60000 [==============================] - 29s 485us/step - loss: 3.8890e-05 - val_loss: 3.9330e-06\n",
            "Epoch 2/500\n",
            "60000/60000 [==============================] - 30s 492us/step - loss: 2.6625e-07 - val_loss: 3.2262e-06\n",
            "Epoch 3/500\n",
            "60000/60000 [==============================] - 30s 493us/step - loss: 1.2470e-08 - val_loss: 3.1629e-06\n",
            "Epoch 4/500\n",
            "60000/60000 [==============================] - 30s 495us/step - loss: 5.8827e-10 - val_loss: 3.1593e-06\n",
            "Epoch 5/500\n",
            "60000/60000 [==============================] - 30s 493us/step - loss: 4.6231e-11 - val_loss: 3.1609e-06\n",
            "Epoch 6/500\n",
            "60000/60000 [==============================] - 30s 493us/step - loss: 2.1708e-11 - val_loss: 3.1611e-06\n",
            "Epoch 7/500\n",
            "49152/60000 [=======================>......] - ETA: 5s - loss: 2.0636e-11"
          ],
          "name": "stdout"
        },
        {
          "output_type": "stream",
          "text": [
            "60000/60000 [==============================] - 30s 493us/step - loss: 2.0635e-11 - val_loss: 3.1611e-06\n",
            "Epoch 8/500\n",
            "60000/60000 [==============================] - 30s 495us/step - loss: 2.0588e-11 - val_loss: 3.1612e-06\n",
            "Epoch 9/500\n",
            "60000/60000 [==============================] - 30s 494us/step - loss: 2.0585e-11 - val_loss: 3.1612e-06\n",
            "Epoch 10/500\n",
            "60000/60000 [==============================] - 30s 492us/step - loss: 2.0588e-11 - val_loss: 3.1611e-06\n",
            "Epoch 11/500\n",
            "60000/60000 [==============================] - 30s 493us/step - loss: 2.0589e-11 - val_loss: 3.1612e-06\n",
            "Epoch 12/500\n",
            "60000/60000 [==============================] - 30s 494us/step - loss: 2.0584e-11 - val_loss: 3.1611e-06\n",
            "Epoch 13/500\n",
            "60000/60000 [==============================] - 30s 495us/step - loss: 2.0588e-11 - val_loss: 3.1610e-06\n",
            "Epoch 14/500\n",
            "20480/60000 [=========>....................] - ETA: 18s - loss: 2.0575e-11"
          ],
          "name": "stdout"
        },
        {
          "output_type": "stream",
          "text": [
            "60000/60000 [==============================] - 30s 492us/step - loss: 2.0587e-11 - val_loss: 3.1611e-06\n",
            "Epoch 15/500\n",
            "60000/60000 [==============================] - 30s 497us/step - loss: 2.0586e-11 - val_loss: 3.1611e-06\n",
            "Epoch 16/500\n",
            "60000/60000 [==============================] - 30s 492us/step - loss: 2.0591e-11 - val_loss: 3.1612e-06\n",
            "Epoch 17/500\n",
            "60000/60000 [==============================] - 30s 493us/step - loss: 2.0590e-11 - val_loss: 3.1611e-06\n",
            "Epoch 18/500\n",
            "60000/60000 [==============================] - 30s 493us/step - loss: 2.0588e-11 - val_loss: 3.1612e-06\n",
            "Epoch 19/500\n",
            "60000/60000 [==============================] - 30s 496us/step - loss: 2.0587e-11 - val_loss: 3.1613e-06\n",
            "Epoch 20/500\n",
            "60000/60000 [==============================] - 30s 496us/step - loss: 2.0594e-11 - val_loss: 3.1611e-06\n",
            "Epoch 21/500\n",
            "16384/60000 [=======>......................] - ETA: 20s - loss: 2.0530e-11"
          ],
          "name": "stdout"
        },
        {
          "output_type": "stream",
          "text": [
            "60000/60000 [==============================] - 30s 495us/step - loss: 2.0592e-11 - val_loss: 3.1613e-06\n",
            "Epoch 22/500\n",
            "60000/60000 [==============================] - 30s 494us/step - loss: 2.0590e-11 - val_loss: 3.1611e-06\n",
            "Epoch 23/500\n",
            "60000/60000 [==============================] - 30s 494us/step - loss: 2.0591e-11 - val_loss: 3.1611e-06\n",
            "Epoch 24/500\n",
            "60000/60000 [==============================] - 30s 494us/step - loss: 2.0591e-11 - val_loss: 3.1611e-06\n",
            "Epoch 25/500\n",
            "60000/60000 [==============================] - 30s 494us/step - loss: 2.0594e-11 - val_loss: 3.1612e-06\n",
            "Epoch 26/500\n",
            "60000/60000 [==============================] - 30s 495us/step - loss: 2.0593e-11 - val_loss: 3.1613e-06\n",
            "Epoch 27/500\n",
            "60000/60000 [==============================] - 30s 496us/step - loss: 2.0591e-11 - val_loss: 3.1611e-06\n",
            "Epoch 28/500\n",
            "16384/60000 [=======>......................] - ETA: 20s - loss: 2.0480e-11"
          ],
          "name": "stdout"
        },
        {
          "output_type": "stream",
          "text": [
            "60000/60000 [==============================] - 30s 493us/step - loss: 2.0591e-11 - val_loss: 3.1611e-06\n",
            "Epoch 29/500\n",
            "60000/60000 [==============================] - 30s 493us/step - loss: 2.0591e-11 - val_loss: 3.1610e-06\n",
            "Epoch 30/500\n",
            "60000/60000 [==============================] - 30s 493us/step - loss: 2.0600e-11 - val_loss: 3.1611e-06\n",
            "Epoch 31/500\n",
            "60000/60000 [==============================] - 30s 493us/step - loss: 2.0594e-11 - val_loss: 3.1612e-06\n",
            "Epoch 32/500\n",
            "60000/60000 [==============================] - 30s 493us/step - loss: 2.0598e-11 - val_loss: 3.1611e-06\n",
            "Epoch 33/500\n",
            "60000/60000 [==============================] - 30s 493us/step - loss: 2.0596e-11 - val_loss: 3.1612e-06\n",
            "Epoch 34/500\n",
            "60000/60000 [==============================] - 30s 492us/step - loss: 2.0596e-11 - val_loss: 3.1612e-06\n",
            "Epoch 35/500\n",
            "16384/60000 [=======>......................] - ETA: 20s - loss: 2.0612e-11"
          ],
          "name": "stdout"
        },
        {
          "output_type": "stream",
          "text": [
            "60000/60000 [==============================] - 30s 493us/step - loss: 2.0597e-11 - val_loss: 3.1612e-06\n",
            "Epoch 36/500\n",
            "60000/60000 [==============================] - 30s 495us/step - loss: 2.0599e-11 - val_loss: 3.1612e-06\n",
            "Epoch 37/500\n",
            "60000/60000 [==============================] - 29s 491us/step - loss: 2.0595e-11 - val_loss: 3.1610e-06\n",
            "Epoch 38/500\n",
            "60000/60000 [==============================] - 30s 493us/step - loss: 2.0599e-11 - val_loss: 3.1611e-06\n",
            "Epoch 39/500\n",
            "60000/60000 [==============================] - 30s 492us/step - loss: 2.0598e-11 - val_loss: 3.1612e-06\n",
            "Epoch 40/500\n",
            "60000/60000 [==============================] - 30s 495us/step - loss: 2.0600e-11 - val_loss: 3.1612e-06\n",
            "Epoch 41/500\n",
            "60000/60000 [==============================] - 30s 493us/step - loss: 2.0604e-11 - val_loss: 3.1611e-06\n",
            "Epoch 42/500\n",
            "16384/60000 [=======>......................] - ETA: 20s - loss: 2.0550e-11"
          ],
          "name": "stdout"
        },
        {
          "output_type": "stream",
          "text": [
            "60000/60000 [==============================] - 30s 493us/step - loss: 2.0598e-11 - val_loss: 3.1613e-06\n",
            "Epoch 43/500\n",
            "60000/60000 [==============================] - 30s 494us/step - loss: 2.0601e-11 - val_loss: 3.1610e-06\n",
            "Epoch 44/500\n",
            "60000/60000 [==============================] - 30s 495us/step - loss: 2.0605e-11 - val_loss: 3.1611e-06\n",
            "Epoch 45/500\n",
            "60000/60000 [==============================] - 30s 496us/step - loss: 2.0597e-11 - val_loss: 3.1615e-06\n",
            "Epoch 46/500\n",
            "60000/60000 [==============================] - 30s 495us/step - loss: 2.0611e-11 - val_loss: 3.1611e-06\n",
            "Epoch 47/500\n",
            "60000/60000 [==============================] - 30s 495us/step - loss: 2.0604e-11 - val_loss: 3.1611e-06\n",
            "Epoch 48/500\n",
            "60000/60000 [==============================] - 30s 496us/step - loss: 2.0603e-11 - val_loss: 3.1613e-06\n",
            "Epoch 49/500\n",
            "16384/60000 [=======>......................] - ETA: 20s - loss: 2.0603e-11"
          ],
          "name": "stdout"
        },
        {
          "output_type": "stream",
          "text": [
            "60000/60000 [==============================] - 30s 497us/step - loss: 2.0605e-11 - val_loss: 3.1611e-06\n",
            "Epoch 50/500\n",
            "60000/60000 [==============================] - 30s 496us/step - loss: 2.0600e-11 - val_loss: 3.1614e-06\n",
            "Epoch 51/500\n",
            "60000/60000 [==============================] - 30s 497us/step - loss: 2.0602e-11 - val_loss: 3.1609e-06\n",
            "Epoch 52/500\n",
            "60000/60000 [==============================] - 30s 498us/step - loss: 2.0605e-11 - val_loss: 3.1614e-06\n",
            "Epoch 53/500\n",
            "60000/60000 [==============================] - 30s 499us/step - loss: 2.0604e-11 - val_loss: 3.1612e-06\n",
            "Epoch 54/500\n",
            "60000/60000 [==============================] - 30s 500us/step - loss: 2.0606e-11 - val_loss: 3.1613e-06\n",
            "Epoch 55/500\n",
            "60000/60000 [==============================] - 30s 500us/step - loss: 2.0603e-11 - val_loss: 3.1612e-06\n",
            "Epoch 56/500\n",
            "16384/60000 [=======>......................] - ETA: 20s - loss: 2.0528e-11"
          ],
          "name": "stdout"
        },
        {
          "output_type": "stream",
          "text": [
            "60000/60000 [==============================] - 30s 497us/step - loss: 2.0604e-11 - val_loss: 3.1610e-06\n",
            "Epoch 57/500\n",
            "60000/60000 [==============================] - 30s 500us/step - loss: 2.0605e-11 - val_loss: 3.1609e-06\n",
            "Epoch 58/500\n",
            "60000/60000 [==============================] - 30s 500us/step - loss: 2.0619e-11 - val_loss: 3.1611e-06\n",
            "Epoch 59/500\n",
            "60000/60000 [==============================] - 30s 497us/step - loss: 2.0605e-11 - val_loss: 3.1610e-06\n",
            "Epoch 60/500\n",
            "60000/60000 [==============================] - 30s 498us/step - loss: 2.0605e-11 - val_loss: 3.1610e-06\n",
            "Epoch 61/500\n",
            "60000/60000 [==============================] - 30s 495us/step - loss: 2.0606e-11 - val_loss: 3.1610e-06\n",
            "Epoch 62/500\n",
            "60000/60000 [==============================] - 30s 497us/step - loss: 2.0608e-11 - val_loss: 3.1613e-06\n",
            "Epoch 63/500\n",
            "16384/60000 [=======>......................] - ETA: 20s - loss: 2.0599e-11"
          ],
          "name": "stdout"
        },
        {
          "output_type": "stream",
          "text": [
            "60000/60000 [==============================] - 30s 496us/step - loss: 2.0605e-11 - val_loss: 3.1611e-06\n",
            "Epoch 64/500\n",
            "60000/60000 [==============================] - 30s 497us/step - loss: 2.0613e-11 - val_loss: 3.1610e-06\n",
            "Epoch 65/500\n",
            "60000/60000 [==============================] - 30s 498us/step - loss: 2.0612e-11 - val_loss: 3.1613e-06\n",
            "Epoch 66/500\n",
            "60000/60000 [==============================] - 30s 497us/step - loss: 2.0606e-11 - val_loss: 3.1614e-06\n",
            "Epoch 67/500\n",
            "60000/60000 [==============================] - 30s 498us/step - loss: 2.0611e-11 - val_loss: 3.1613e-06\n",
            "Epoch 68/500\n",
            "60000/60000 [==============================] - 30s 499us/step - loss: 2.0613e-11 - val_loss: 3.1610e-06\n",
            "Epoch 69/500\n",
            "60000/60000 [==============================] - 30s 498us/step - loss: 2.0611e-11 - val_loss: 3.1610e-06\n",
            "Epoch 70/500\n",
            "16384/60000 [=======>......................] - ETA: 20s - loss: 2.0610e-11"
          ],
          "name": "stdout"
        },
        {
          "output_type": "stream",
          "text": [
            "60000/60000 [==============================] - 30s 498us/step - loss: 2.0614e-11 - val_loss: 3.1614e-06\n",
            "Epoch 71/500\n",
            "60000/60000 [==============================] - 30s 497us/step - loss: 2.0619e-11 - val_loss: 3.1612e-06\n",
            "Epoch 72/500\n",
            "60000/60000 [==============================] - 30s 496us/step - loss: 2.0614e-11 - val_loss: 3.1613e-06\n",
            "Epoch 73/500\n",
            "60000/60000 [==============================] - 30s 497us/step - loss: 2.0613e-11 - val_loss: 3.1609e-06\n",
            "Epoch 74/500\n",
            "60000/60000 [==============================] - 30s 497us/step - loss: 2.0627e-11 - val_loss: 3.1611e-06\n",
            "Epoch 75/500\n",
            "60000/60000 [==============================] - 30s 495us/step - loss: 2.0627e-11 - val_loss: 3.1613e-06\n",
            "Epoch 76/500\n",
            "60000/60000 [==============================] - 30s 499us/step - loss: 2.0620e-11 - val_loss: 3.1610e-06\n",
            "Epoch 77/500\n",
            "16384/60000 [=======>......................] - ETA: 20s - loss: 2.0611e-11"
          ],
          "name": "stdout"
        },
        {
          "output_type": "stream",
          "text": [
            "60000/60000 [==============================] - 30s 497us/step - loss: 2.0628e-11 - val_loss: 3.1613e-06\n",
            "Epoch 78/500\n",
            "60000/60000 [==============================] - 30s 498us/step - loss: 2.0621e-11 - val_loss: 3.1610e-06\n",
            "Epoch 79/500\n",
            "60000/60000 [==============================] - 30s 497us/step - loss: 2.0632e-11 - val_loss: 3.1612e-06\n",
            "Epoch 80/500\n",
            "60000/60000 [==============================] - 30s 499us/step - loss: 2.0622e-11 - val_loss: 3.1611e-06\n",
            "Epoch 81/500\n",
            "60000/60000 [==============================] - 30s 497us/step - loss: 2.0618e-11 - val_loss: 3.1612e-06\n",
            "Epoch 82/500\n",
            "60000/60000 [==============================] - 30s 496us/step - loss: 2.0620e-11 - val_loss: 3.1613e-06\n",
            "Epoch 83/500\n",
            "60000/60000 [==============================] - 30s 496us/step - loss: 2.0621e-11 - val_loss: 3.1612e-06\n",
            "Epoch 84/500\n",
            "16384/60000 [=======>......................] - ETA: 20s - loss: 2.0646e-11"
          ],
          "name": "stdout"
        },
        {
          "output_type": "stream",
          "text": [
            "60000/60000 [==============================] - 30s 495us/step - loss: 2.0627e-11 - val_loss: 3.1608e-06\n",
            "Epoch 85/500\n",
            "60000/60000 [==============================] - 30s 495us/step - loss: 2.0625e-11 - val_loss: 3.1611e-06\n",
            "Epoch 86/500\n",
            "60000/60000 [==============================] - 30s 493us/step - loss: 2.0629e-11 - val_loss: 3.1611e-06\n",
            "Epoch 87/500\n",
            "60000/60000 [==============================] - 30s 495us/step - loss: 2.0632e-11 - val_loss: 3.1613e-06\n",
            "Epoch 88/500\n",
            "60000/60000 [==============================] - 30s 497us/step - loss: 2.0632e-11 - val_loss: 3.1610e-06\n",
            "Epoch 89/500\n",
            "60000/60000 [==============================] - 30s 497us/step - loss: 2.0633e-11 - val_loss: 3.1612e-06\n",
            "Epoch 90/500\n",
            "60000/60000 [==============================] - 30s 495us/step - loss: 2.0623e-11 - val_loss: 3.1614e-06\n",
            "Epoch 91/500\n",
            "16384/60000 [=======>......................] - ETA: 20s - loss: 2.0585e-11"
          ],
          "name": "stdout"
        },
        {
          "output_type": "stream",
          "text": [
            "60000/60000 [==============================] - 30s 493us/step - loss: 2.0628e-11 - val_loss: 3.1609e-06\n",
            "Epoch 92/500\n",
            "60000/60000 [==============================] - 30s 495us/step - loss: 2.0634e-11 - val_loss: 3.1611e-06\n",
            "Epoch 93/500\n",
            "60000/60000 [==============================] - 30s 500us/step - loss: 2.0637e-11 - val_loss: 3.1608e-06\n",
            "Epoch 94/500\n",
            "60000/60000 [==============================] - 30s 496us/step - loss: 2.0639e-11 - val_loss: 3.1613e-06\n",
            "Epoch 95/500\n",
            "60000/60000 [==============================] - 30s 494us/step - loss: 2.0646e-11 - val_loss: 3.1610e-06\n",
            "Epoch 96/500\n",
            "60000/60000 [==============================] - 30s 493us/step - loss: 2.0634e-11 - val_loss: 3.1609e-06\n",
            "Epoch 97/500\n",
            "60000/60000 [==============================] - 30s 495us/step - loss: 2.0635e-11 - val_loss: 3.1608e-06\n",
            "Epoch 98/500\n",
            "16384/60000 [=======>......................] - ETA: 20s - loss: 2.0720e-11"
          ],
          "name": "stdout"
        },
        {
          "output_type": "stream",
          "text": [
            "60000/60000 [==============================] - 30s 493us/step - loss: 2.0647e-11 - val_loss: 3.1609e-06\n",
            "Epoch 99/500\n",
            "60000/60000 [==============================] - 30s 495us/step - loss: 2.0639e-11 - val_loss: 3.1612e-06\n",
            "Epoch 100/500\n",
            "60000/60000 [==============================] - 30s 494us/step - loss: 2.0645e-11 - val_loss: 3.1610e-06\n",
            "Epoch 101/500\n",
            "60000/60000 [==============================] - 30s 497us/step - loss: 2.0634e-11 - val_loss: 3.1612e-06\n",
            "Epoch 102/500\n",
            "60000/60000 [==============================] - 30s 494us/step - loss: 2.0641e-11 - val_loss: 3.1610e-06\n",
            "Epoch 103/500\n",
            "60000/60000 [==============================] - 30s 494us/step - loss: 2.0645e-11 - val_loss: 3.1615e-06\n",
            "Epoch 104/500\n",
            "60000/60000 [==============================] - 30s 495us/step - loss: 2.0647e-11 - val_loss: 3.1613e-06\n",
            "Epoch 105/500\n",
            "16384/60000 [=======>......................] - ETA: 20s - loss: 2.0566e-11"
          ],
          "name": "stdout"
        },
        {
          "output_type": "stream",
          "text": [
            "60000/60000 [==============================] - 30s 494us/step - loss: 2.0652e-11 - val_loss: 3.1610e-06\n",
            "Epoch 106/500\n",
            "60000/60000 [==============================] - 30s 499us/step - loss: 2.0647e-11 - val_loss: 3.1613e-06\n",
            "Epoch 107/500\n",
            "60000/60000 [==============================] - 30s 494us/step - loss: 2.0662e-11 - val_loss: 3.1607e-06\n",
            "Epoch 108/500\n",
            "60000/60000 [==============================] - 30s 494us/step - loss: 2.0668e-11 - val_loss: 3.1614e-06\n",
            "Epoch 109/500\n",
            "60000/60000 [==============================] - 30s 494us/step - loss: 2.0651e-11 - val_loss: 3.1608e-06\n",
            "Epoch 110/500\n",
            "60000/60000 [==============================] - 30s 494us/step - loss: 2.0657e-11 - val_loss: 3.1618e-06\n",
            "Epoch 111/500\n",
            "60000/60000 [==============================] - 30s 496us/step - loss: 2.0701e-11 - val_loss: 3.1615e-06\n",
            "Epoch 112/500\n",
            "14336/60000 [======>.......................] - ETA: 21s - loss: 2.0741e-11"
          ],
          "name": "stdout"
        },
        {
          "output_type": "stream",
          "text": [
            "60000/60000 [==============================] - 30s 495us/step - loss: 2.0662e-11 - val_loss: 3.1612e-06\n",
            "Epoch 113/500\n",
            "60000/60000 [==============================] - 30s 494us/step - loss: 2.0661e-11 - val_loss: 3.1613e-06\n",
            "Epoch 114/500\n",
            "60000/60000 [==============================] - 30s 493us/step - loss: 2.0679e-11 - val_loss: 3.1612e-06\n",
            "Epoch 115/500\n",
            "60000/60000 [==============================] - 30s 494us/step - loss: 2.0664e-11 - val_loss: 3.1610e-06\n",
            "Epoch 116/500\n",
            "60000/60000 [==============================] - 30s 492us/step - loss: 2.0688e-11 - val_loss: 3.1613e-06\n",
            "Epoch 117/500\n",
            "60000/60000 [==============================] - 30s 493us/step - loss: 2.0693e-11 - val_loss: 3.1611e-06\n",
            "Epoch 118/500\n",
            "60000/60000 [==============================] - 30s 496us/step - loss: 2.0694e-11 - val_loss: 3.1612e-06\n",
            "Epoch 119/500\n",
            "14336/60000 [======>.......................] - ETA: 21s - loss: 2.0709e-11"
          ],
          "name": "stdout"
        },
        {
          "output_type": "stream",
          "text": [
            "60000/60000 [==============================] - 30s 494us/step - loss: 2.0691e-11 - val_loss: 3.1611e-06\n",
            "Epoch 120/500\n",
            "60000/60000 [==============================] - 30s 494us/step - loss: 2.0734e-11 - val_loss: 3.1612e-06\n",
            "Epoch 121/500\n",
            "60000/60000 [==============================] - 30s 494us/step - loss: 2.2024e-11 - val_loss: 3.1617e-06\n",
            "Epoch 122/500\n",
            "60000/60000 [==============================] - 30s 497us/step - loss: 1.9474e-10 - val_loss: 3.1639e-06\n",
            "Epoch 123/500\n",
            "60000/60000 [==============================] - 30s 495us/step - loss: 4.7996e-11 - val_loss: 3.1617e-06\n",
            "Epoch 124/500\n",
            "60000/60000 [==============================] - 30s 494us/step - loss: 2.5237e-11 - val_loss: 3.1617e-06\n",
            "Epoch 125/500\n",
            "60000/60000 [==============================] - 30s 495us/step - loss: 8.3362e-11 - val_loss: 3.1677e-06\n",
            "Epoch 126/500\n",
            "14336/60000 [======>.......................] - ETA: 21s - loss: 1.0418e-09"
          ],
          "name": "stdout"
        },
        {
          "output_type": "stream",
          "text": [
            "60000/60000 [==============================] - 30s 495us/step - loss: 5.5386e-10 - val_loss: 3.1628e-06\n",
            "Epoch 127/500\n",
            "60000/60000 [==============================] - 30s 493us/step - loss: 4.8555e-11 - val_loss: 3.1617e-06\n",
            "Epoch 128/500\n",
            "60000/60000 [==============================] - 30s 494us/step - loss: 2.2927e-11 - val_loss: 3.1607e-06\n",
            "Epoch 129/500\n",
            "60000/60000 [==============================] - 30s 494us/step - loss: 2.5831e-11 - val_loss: 3.1599e-06\n",
            "Epoch 130/500\n",
            "60000/60000 [==============================] - 30s 493us/step - loss: 8.9013e-10 - val_loss: 3.1610e-06\n",
            "Epoch 131/500\n",
            "60000/60000 [==============================] - 30s 494us/step - loss: 1.7995e-10 - val_loss: 3.1628e-06\n",
            "Epoch 132/500\n",
            "60000/60000 [==============================] - 30s 493us/step - loss: 3.2841e-11 - val_loss: 3.1617e-06\n",
            "Epoch 133/500\n",
            "14336/60000 [======>.......................] - ETA: 21s - loss: 2.2762e-11"
          ],
          "name": "stdout"
        },
        {
          "output_type": "stream",
          "text": [
            "60000/60000 [==============================] - 30s 495us/step - loss: 2.1595e-11 - val_loss: 3.1614e-06\n",
            "Epoch 134/500\n",
            "60000/60000 [==============================] - 30s 495us/step - loss: 2.1517e-11 - val_loss: 3.1617e-06\n",
            "Epoch 135/500\n",
            "60000/60000 [==============================] - 30s 497us/step - loss: 1.6071e-09 - val_loss: 3.1678e-06\n",
            "Epoch 136/500\n",
            "60000/60000 [==============================] - 30s 498us/step - loss: 5.1920e-10 - val_loss: 3.1621e-06\n",
            "Epoch 137/500\n",
            "60000/60000 [==============================] - 30s 495us/step - loss: 4.8104e-11 - val_loss: 3.1613e-06\n",
            "Epoch 138/500\n",
            "60000/60000 [==============================] - 30s 496us/step - loss: 2.1899e-11 - val_loss: 3.1613e-06\n",
            "Epoch 139/500\n",
            "60000/60000 [==============================] - 30s 495us/step - loss: 3.4030e-11 - val_loss: 3.1606e-06\n",
            "Epoch 140/500\n",
            "14336/60000 [======>.......................] - ETA: 21s - loss: 3.5903e-10"
          ],
          "name": "stdout"
        },
        {
          "output_type": "stream",
          "text": [
            "60000/60000 [==============================] - 30s 495us/step - loss: 9.1290e-10 - val_loss: 3.1637e-06\n",
            "Epoch 141/500\n",
            "60000/60000 [==============================] - 30s 495us/step - loss: 1.1152e-10 - val_loss: 3.1608e-06\n",
            "Epoch 142/500\n",
            "53248/60000 [=========================>....] - ETA: 3s - loss: 2.6408e-11"
          ],
          "name": "stdout"
        }
      ]
    },
    {
      "metadata": {
        "id": "Dq8byJgkigBf",
        "colab_type": "code",
        "colab": {}
      },
      "cell_type": "code",
      "source": [
        "keras.callbacks.ModeCheckpoint('https://drive.google.com/drive/folders/1jv9RQSPF_g_qRUz3E8KXj96WUeSfFBUA',monitor='val_loss',verbose=0,save_best_only=False,save_weights_only=False,ode='auto',period=1)"
      ],
      "execution_count": 0,
      "outputs": []
    },
    {
      "metadata": {
        "id": "useH1Cf1CHDQ",
        "colab_type": "code",
        "colab": {}
      },
      "cell_type": "code",
      "source": [
        "import matplotlib.pyplot as plt\n",
        "plt.imshow(pred[2].reshape(28,28),cmap='gray')"
      ],
      "execution_count": 0,
      "outputs": []
    }
  ]
}